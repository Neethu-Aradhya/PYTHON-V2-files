
https://s3-whjr-curriculum-uploads.whjr.online/10e94352-4d93-4a22-9d7b-b3b8c296dbd3.html#/1
https://matplotlib.org/stable/api/_as_gen/matplotlib.pyplot.subplot.html
