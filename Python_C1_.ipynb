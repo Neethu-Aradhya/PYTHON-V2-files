{
  "nbformat": 4,
  "nbformat_minor": 0,
  "metadata": {
    "colab": {
      "provenance": [],
      "authorship_tag": "ABX9TyPSJqP6B6cGzxm1441UWV+5",
      "include_colab_link": true
    },
    "kernelspec": {
      "name": "python3",
      "display_name": "Python 3"
    },
    "language_info": {
      "name": "python"
    }
  },
  "cells": [
    {
      "cell_type": "markdown",
      "metadata": {
        "id": "view-in-github",
        "colab_type": "text"
      },
      "source": [
        "<a href=\"https://colab.research.google.com/github/Neethu-Aradhya/PYTHON-V2-files/blob/main/Python_C1_.ipynb\" target=\"_parent\"><img src=\"https://colab.research.google.com/assets/colab-badge.svg\" alt=\"Open In Colab\"/></a>"
      ]
    },
    {
      "cell_type": "markdown",
      "source": [
        "**class 1**  on 8/10/2023\n"
      ],
      "metadata": {
        "id": "IQLMaTCkEFGM"
      }
    },
    {
      "cell_type": "markdown",
      "source": [
        "**Python Introduction**\n",
        "\n",
        "**What is Python?**\n",
        "Python is a popular programming language. It was created by Guido van Rossum, and released in 1991.\n",
        "\n",
        "**It is used for:**\n",
        "\n",
        "web development (server-side),\n",
        "software development,\n",
        "mathematics,\n",
        "system scripting.\n",
        "\n",
        "**What can Python do?**\n",
        "\n",
        "1. Python can be used on a server to create web applications.\n",
        "2. Python can be used alongside software to create workflows.\n",
        "3. Python can connect to database systems. It can also read and modify files.\n",
        "4. Python can be used to handle big data and perform complex mathematics.\n",
        "5. Python can be used for rapid prototyping, or for production-ready software development.\n",
        "\n",
        "**Why Python?**\n",
        "\n",
        "\n",
        "1.  Python works on different platforms (Windows, Mac, Linux, Raspberry Pi,\n",
        "   etc).\n",
        "2.  Python has a simple syntax similar to the English language.\n",
        "3. Python has syntax that allows developers to write programs with fewer lines\n",
        " than some other programming languages.\n",
        "4. Python runs on an interpreter system, meaning that code can be executed as s\n",
        "  oon as it is written. This means that prototyping can be very quick.\n",
        "5. Python can be treated in a procedural way, an object-oriented way or a\n",
        "   functional way.\n",
        "6. Python is commonly used for developing websites and software, task automation, data analysis, and data visualisation.\n",
        "\n",
        "**Python Syntax compared to other programming languages**\n",
        "1. Python was designed for readability, and has some similarities to the English language with influence from mathematics.\n",
        "2. Python uses new lines to complete a command, as opposed to other programming languages which often use semicolons or parentheses.\n",
        "3. Python relies on indentation, using whitespace, to define scope; such as the scope of loops, functions and classes. Other programming languages often use curly-brackets for this purpose.\n",
        "\n",
        "*Python is a dynamic, high-level, free open source, and interpreted programming language. It supports object-oriented programming as well as procedural-oriented programming. In Python, we don't need to declare the type of variable because it is a dynamically typed language.\n",
        "\n"
      ],
      "metadata": {
        "id": "4QGs7kNl6Xar"
      }
    },
    {
      "cell_type": "markdown",
      "source": [
        "Python is an interpreted programming language, this means that as a developer you write Python (.py) files in a text editor and then put those files into the python interpreter to be executed."
      ],
      "metadata": {
        "id": "6isq8OSU95Y2"
      }
    },
    {
      "cell_type": "markdown",
      "source": [
        "**EXAMPLE**"
      ],
      "metadata": {
        "id": "FmHu84Nn-Bte"
      }
    },
    {
      "cell_type": "code",
      "execution_count": null,
      "metadata": {
        "colab": {
          "base_uri": "https://localhost:8080/"
        },
        "id": "pk48SDrG6UTg",
        "outputId": "750ff3f0-716e-41ed-b4d7-263cf3244327"
      },
      "outputs": [
        {
          "output_type": "stream",
          "name": "stdout",
          "text": [
            "value: 2.3\n"
          ]
        }
      ],
      "source": [
        "a=2.3   # flote\n",
        "y=8     #int\n",
        "\n",
        "print(\"value:\",a)\n"
      ]
    },
    {
      "cell_type": "markdown",
      "source": [
        "**Python Indentation**\n",
        "\n",
        "Indentation refers to the spaces at the beginning of a code line.\n",
        "Where in other programming languages the indentation in code is for readability only, the indentation in Python is very important.\n",
        "\n",
        "Python uses indentation to indicate a block of code."
      ],
      "metadata": {
        "id": "bBmEm1-A-ViD"
      }
    },
    {
      "cell_type": "code",
      "source": [
        "if 5 > 2:\n",
        "  print(\"Five is greater than two!\")"
      ],
      "metadata": {
        "id": "gxU2sNSE-ewY"
      },
      "execution_count": null,
      "outputs": []
    },
    {
      "cell_type": "code",
      "source": [
        "#Example\n",
        "\n",
        "#Syntax Error:\n",
        "\n",
        "if 5 > 2:\n",
        "print(\"Five is greater than two!\")"
      ],
      "metadata": {
        "colab": {
          "base_uri": "https://localhost:8080/",
          "height": 140
        },
        "id": "j-QOoWnY_D23",
        "outputId": "5c5630fc-22fb-4162-e484-3c15e16c50e4"
      },
      "execution_count": null,
      "outputs": [
        {
          "output_type": "error",
          "ename": "IndentationError",
          "evalue": "ignored",
          "traceback": [
            "\u001b[0;36m  File \u001b[0;32m\"<ipython-input-3-f399937ad8de>\"\u001b[0;36m, line \u001b[0;32m6\u001b[0m\n\u001b[0;31m    print(\"Five is greater than two!\")\u001b[0m\n\u001b[0m    ^\u001b[0m\n\u001b[0;31mIndentationError\u001b[0m\u001b[0;31m:\u001b[0m expected an indented block after 'if' statement on line 5\n"
          ]
        }
      ]
    },
    {
      "cell_type": "markdown",
      "source": [
        "**Python Variables**\n",
        "\n",
        "In Python, variables are created when you assign a value to it:"
      ],
      "metadata": {
        "id": "7A7QgLF0_YQV"
      }
    },
    {
      "cell_type": "code",
      "source": [
        "name=\"neethu\"#string\n",
        "print(name)"
      ],
      "metadata": {
        "id": "ya5qOCyS_bne",
        "colab": {
          "base_uri": "https://localhost:8080/"
        },
        "outputId": "5becc96f-ca22-488b-f7cb-9d1b2c3a9930"
      },
      "execution_count": null,
      "outputs": [
        {
          "output_type": "stream",
          "name": "stdout",
          "text": [
            "neethu\n"
          ]
        }
      ]
    },
    {
      "cell_type": "code",
      "source": [
        "student=input(\"enter your name:\")\n",
        "\n",
        "print(student)"
      ],
      "metadata": {
        "colab": {
          "base_uri": "https://localhost:8080/"
        },
        "id": "2W0m3ucDwcrP",
        "outputId": "38c1b9ab-f9d2-4170-9673-ee1fe0fc8060"
      },
      "execution_count": null,
      "outputs": [
        {
          "output_type": "stream",
          "name": "stdout",
          "text": [
            "enter your name:neethu\n",
            "neethu\n"
          ]
        }
      ]
    },
    {
      "cell_type": "markdown",
      "source": [
        "**Creating a Comment**\n",
        "\n",
        "Comments can be used to explain Python code.\n",
        "\n",
        "Comments can be used to make the code more readable\n",
        "\n",
        "Comments starts with a  #  , and Python will ignore them:\n",
        "\n"
      ],
      "metadata": {
        "id": "OvTkg2HJ_pLO"
      }
    },
    {
      "cell_type": "code",
      "source": [
        "#print the output\n",
        "print(\"Hello, World!\")"
      ],
      "metadata": {
        "id": "s6JQxjgy_1WE"
      },
      "execution_count": null,
      "outputs": []
    },
    {
      "cell_type": "markdown",
      "source": [
        "**Multiline Comments**\n",
        "\n",
        "Python does not really have a syntax for multiline comments.\n",
        "\n",
        "To add a multiline comment you could insert a # for each line:"
      ],
      "metadata": {
        "id": "KZaUHAFoBG18"
      }
    },
    {
      "cell_type": "code",
      "source": [
        "\"\"\"\n",
        "This is a comment\n",
        "written in\n",
        "more than just one line\n",
        "\"\"\"\n",
        "print(\"Hello, World!\")"
      ],
      "metadata": {
        "id": "uGV_3JsKBRlE",
        "colab": {
          "base_uri": "https://localhost:8080/"
        },
        "outputId": "e6842a4d-32b3-48c0-d483-b4198f9b0695"
      },
      "execution_count": null,
      "outputs": [
        {
          "output_type": "stream",
          "name": "stdout",
          "text": [
            "Hello, World!\n"
          ]
        }
      ]
    },
    {
      "cell_type": "code",
      "source": [
        "#This is a comment\n",
        "#written in\n",
        "#more than just one line\n",
        "print(\"Hello, World!\")"
      ],
      "metadata": {
        "id": "IDh40WAj_w0s"
      },
      "execution_count": null,
      "outputs": []
    },
    {
      "cell_type": "markdown",
      "source": [
        "**Python Variables**\n",
        "\n",
        "**Variables**\n",
        "\n",
        "Variables are containers for storing data values.\n",
        "\n",
        "**Creating Variables**\n",
        "\n",
        "Python has no declaring a variable.\n",
        "\n",
        "A variable is created the moment you first assign a value to it.\n",
        "\n"
      ],
      "metadata": {
        "id": "PE9t0QgKBkWq"
      }
    },
    {
      "cell_type": "code",
      "source": [
        "if 5>2:\n",
        "  print(\"yes it is\")\n"
      ],
      "metadata": {
        "id": "A7GYbkBuCUXS",
        "colab": {
          "base_uri": "https://localhost:8080/"
        },
        "outputId": "8a7a62d0-c0dc-4c50-fb53-e8ba1d226acb"
      },
      "execution_count": null,
      "outputs": [
        {
          "output_type": "stream",
          "name": "stdout",
          "text": [
            "yes it is\n"
          ]
        }
      ]
    },
    {
      "cell_type": "markdown",
      "source": [
        "Variables do not need to be declared with any particular type, and can even change type after they have been set."
      ],
      "metadata": {
        "id": "ilu17-vfCU9e"
      }
    },
    {
      "cell_type": "code",
      "source": [
        "a=100\n",
        "b=200\n",
        "if b>=a:\n",
        "  print(\"b is greater than a\")\n",
        "else:\n",
        "  print(\"a is greater than b\")"
      ],
      "metadata": {
        "id": "iSxeJncgCWAM",
        "colab": {
          "base_uri": "https://localhost:8080/"
        },
        "outputId": "6643a824-fb91-45e2-e1a6-d59b2450afc8"
      },
      "execution_count": null,
      "outputs": [
        {
          "output_type": "stream",
          "name": "stdout",
          "text": [
            "b is greater than a\n"
          ]
        }
      ]
    },
    {
      "cell_type": "code",
      "source": [
        "a=200\n",
        "b=200\n",
        "if b>a:\n",
        "  print(\"b is greater than a\")\n",
        "elif a==b :\n",
        "  print(\"a and b are equal\")\n",
        "else:\n",
        "  print(\"a is greater than b\")\n",
        "\n"
      ],
      "metadata": {
        "colab": {
          "base_uri": "https://localhost:8080/"
        },
        "id": "7ap9zHyo6Cfu",
        "outputId": "2399b9e1-56e7-4cd2-88e5-6f4e1eb9fe05"
      },
      "execution_count": null,
      "outputs": [
        {
          "output_type": "stream",
          "name": "stdout",
          "text": [
            "a and b are equal\n"
          ]
        }
      ]
    },
    {
      "cell_type": "markdown",
      "source": [
        "List is []\n"
      ],
      "metadata": {
        "id": "qImbruuF6qZD"
      }
    },
    {
      "cell_type": "code",
      "source": [
        "myFriends=[\"sita\",2,3.5]\n",
        "print(myFriends[0])"
      ],
      "metadata": {
        "colab": {
          "base_uri": "https://localhost:8080/"
        },
        "id": "biaJ2Nya5rA0",
        "outputId": "d17f5a1e-3aad-4893-8e2e-d3a02dddf3c9"
      },
      "execution_count": null,
      "outputs": [
        {
          "output_type": "stream",
          "name": "stdout",
          "text": [
            "sita\n"
          ]
        }
      ]
    },
    {
      "cell_type": "code",
      "source": [
        "c=\"hourse ridding\"\n",
        "d=2\n",
        "print(bool(c))\n",
        "print(bool(d))"
      ],
      "metadata": {
        "colab": {
          "base_uri": "https://localhost:8080/"
        },
        "id": "QQj54HKP4Agc",
        "outputId": "2bce472e-1eec-4ff6-d218-24f3425b8f44"
      },
      "execution_count": null,
      "outputs": [
        {
          "output_type": "stream",
          "name": "stdout",
          "text": [
            "True\n",
            "True\n"
          ]
        }
      ]
    },
    {
      "cell_type": "markdown",
      "source": [
        "**Python Data Types**\n",
        "\n",
        "Variables can store data of different types, and different types can do different things.\n",
        "\n",
        "Text Type:\tstr\n",
        "Numeric Types:\tint, float, complex\n",
        "\n",
        "Boolean Type:\tbool\n",
        "\n",
        "Sequence Types:\tlist"
      ],
      "metadata": {
        "id": "ELVpu07s_LzW"
      }
    },
    {
      "cell_type": "code",
      "source": [
        "x = 5\n",
        "print(type(x))"
      ],
      "metadata": {
        "id": "Hji7sTrx_hGo"
      },
      "execution_count": null,
      "outputs": []
    },
    {
      "cell_type": "markdown",
      "source": [
        "                           ** Class 2**  on 15/10/2023"
      ],
      "metadata": {
        "id": "vuXOWY2XDysK"
      }
    },
    {
      "cell_type": "markdown",
      "source": [
        "**List**  []\n",
        "\n",
        "Lists are used to store multiple items in a single variable.\n",
        "\n",
        "List Items\n",
        "List items are ordered, changeable, and allow duplicate values.\n",
        "\n",
        "List items are indexed, the first item has index [0], the second item has index [1] etc.\n",
        "\n",
        "**List Length**\n",
        "\n",
        "To determine how many items a list has, use the **len()** function:\n",
        "\n",
        "**Access Items**\n",
        "\n",
        "List items are indexed and you can access them by referring to the index number:\n"
      ],
      "metadata": {
        "id": "8wpmMuKD_nFV"
      }
    },
    {
      "cell_type": "code",
      "source": [
        "#Index always starts from 0\n",
        "# Index -   0         1          2\n",
        "#    x = [\"apple\", \"banana\", \"cherry\"]\n",
        "x = [\"apple\", \"banana\", \"cherry\"]\n",
        "print(len(x))\n",
        "print(x[1])"
      ],
      "metadata": {
        "id": "gvSQA_qK_n7L",
        "colab": {
          "base_uri": "https://localhost:8080/"
        },
        "outputId": "aa743b47-51e3-4678-c942-7e963c1b19fa"
      },
      "execution_count": null,
      "outputs": [
        {
          "output_type": "stream",
          "name": "stdout",
          "text": [
            "3\n",
            "banana\n"
          ]
        }
      ]
    },
    {
      "cell_type": "code",
      "source": [
        "fruits= [\"apple\", \"banana\", \"cherry\"]\n",
        "print(fruits[1])"
      ],
      "metadata": {
        "id": "yMAXV9iDAeWV"
      },
      "execution_count": null,
      "outputs": []
    },
    {
      "cell_type": "markdown",
      "source": [
        "**Arithmetic Operators**\n",
        "\n",
        "Arithmetic operators are used with numeric values to perform common mathematical operations:"
      ],
      "metadata": {
        "id": "aSQ5WsT9FIOJ"
      }
    },
    {
      "cell_type": "code",
      "source": [
        "x=20\n",
        "y=10\n",
        "print(x/y)"
      ],
      "metadata": {
        "colab": {
          "base_uri": "https://localhost:8080/"
        },
        "id": "YwCGn8Ia0wwX",
        "outputId": "c29dea5c-db50-4c3d-88bd-4fe8a47efca3"
      },
      "execution_count": null,
      "outputs": [
        {
          "output_type": "stream",
          "name": "stdout",
          "text": [
            "2.0\n"
          ]
        }
      ]
    },
    {
      "cell_type": "markdown",
      "source": [
        " % Modulus"
      ],
      "metadata": {
        "id": "NpfGQKmb1HD4"
      }
    },
    {
      "cell_type": "code",
      "source": [
        "x=4\n",
        "y=2\n",
        "print(x%y)"
      ],
      "metadata": {
        "colab": {
          "base_uri": "https://localhost:8080/"
        },
        "id": "EnZmR28n1YL3",
        "outputId": "6c287df9-7044-4fea-dd1d-0910b8b18f65"
      },
      "execution_count": null,
      "outputs": [
        {
          "output_type": "stream",
          "name": "stdout",
          "text": [
            "0\n"
          ]
        }
      ]
    },
    {
      "cell_type": "markdown",
      "source": [
        "//  Floor division"
      ],
      "metadata": {
        "id": "zm8Kduv31qYW"
      }
    },
    {
      "cell_type": "code",
      "source": [
        "x=15\n",
        "y=2\n",
        "print(x//y)"
      ],
      "metadata": {
        "colab": {
          "base_uri": "https://localhost:8080/"
        },
        "id": "KjmRphLa1zRu",
        "outputId": "4ae31c3d-6b53-460c-d867-eb43b45dba1e"
      },
      "execution_count": null,
      "outputs": [
        {
          "output_type": "stream",
          "name": "stdout",
          "text": [
            "7\n"
          ]
        }
      ]
    },
    {
      "cell_type": "code",
      "source": [
        "x=15\n",
        "y=2\n",
        "print(x//y)"
      ],
      "metadata": {
        "colab": {
          "base_uri": "https://localhost:8080/"
        },
        "id": "dlQP5-V92K61",
        "outputId": "8962af50-fcb8-481e-cf1f-06df12b37c77"
      },
      "execution_count": null,
      "outputs": [
        {
          "output_type": "stream",
          "name": "stdout",
          "text": [
            "17\n"
          ]
        }
      ]
    },
    {
      "cell_type": "markdown",
      "source": [
        "![operators.PNG](data:image/png;base64,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)"
      ],
      "metadata": {
        "id": "WK51kR-3Fqqy"
      }
    },
    {
      "cell_type": "code",
      "source": [
        "x = 5\n",
        "\n",
        "x += 3  # x = x + 3\n",
        "\n",
        "print(x)"
      ],
      "metadata": {
        "colab": {
          "base_uri": "https://localhost:8080/"
        },
        "id": "5ixt9OGYGWSx",
        "outputId": "fa83602b-503c-46dc-acaf-3c3f147565c4"
      },
      "execution_count": null,
      "outputs": [
        {
          "output_type": "stream",
          "name": "stdout",
          "text": [
            "8\n"
          ]
        }
      ]
    },
    {
      "cell_type": "code",
      "source": [
        "x=5\n",
        "y=3\n",
        "print(x!=y)\n"
      ],
      "metadata": {
        "colab": {
          "base_uri": "https://localhost:8080/"
        },
        "id": "ae1SrK293X9m",
        "outputId": "a27940e9-31c7-4bde-96ee-1885e4cd18e5"
      },
      "execution_count": null,
      "outputs": [
        {
          "output_type": "stream",
          "name": "stdout",
          "text": [
            "True\n"
          ]
        }
      ]
    },
    {
      "cell_type": "markdown",
      "source": [
        "![Capture.PNG](data:image/png;base64,iVBORw0KGgoAAAANSUhEUgAAA24AAAE7CAYAAACljdIKAAAAAXNSR0IArs4c6QAAAARnQU1BAACxjwv8YQUAAAAJcEhZcwAADsMAAA7DAcdvqGQAAD+1SURBVHhe7Z2/ix1HurDnz5hU4MSwwW5mhRY42MG7wYCCK9jAiBuY4Qsuwoi7YhMxbGCGDYz2wxih4INRsDAO1miCBTkxjIK9jBYuKweLx4HhDhcHEzhQ4KC+7uqq7qq33uquPufMnDozzwMPSH26q+t31XvOmT5bBgAAAAAAAKqGwA0AAAAAAKByCNwAAAAAAAAqh8ANAAAAAACgcgjcAAAAAAAAKofADQAAAAAAoHII3AAAAAAAACqHwA0AAAAAAKByCNwAAAAAAAAqh8ANAAAAAACgcgjcAAAAAAAAKofADQAAAAAAoHII3AAAAAAAACqHwA0AAAAAAKBybkDgdmL2t7bMVuPu83N3DOAyODeHd7u+tvX4xB0DAAAAAFieBQK3IRBSfee2uXN3zxw8PzHnP7tL1spND9yuX/nP/nLf3GrKc+vuE3P61h2sgksK3H6+MG+On5pHH++aO+/dGsba1i1z+4Nds/fpoTn5oaqKAAAAAIAVs/rALXR7x+x/c+GuWxcEbter/HH/23/lDlfBqgO3JmB7/sDc2R7KO+atuwfm5Ed3KQAAAABcK5YK3O784ci8/Ppl4Atz+NkDcz/6VOB2s7m+nE8DLr59YZ5+cs/c/8tYQELgdt3KfyM+cfvpjXn6UTiOts27v9kzj54FY+740Dxp+v+7YWC3vWMOXvPpW5a35+bk+YHZ+3UT5LpDAAAAAJvAUoHbWCBw9uWeue03k788MKfu+OooDUgI3G52+a+SVQVuZ+bwd9tdOo3b7z8yL8a+CvnzhTl91gWz9prte+bwe/caRJw/33X1uk/gBgAAABvFpQVuLaef/sptkrbNo69X/SkAgVsZBG5Xx2oCt9M/3e7SaNz+3aE5K/xb0Ytv9oc3S967jDdLNh8CNwAAANhULjVwM/96au64c3/1p1VvIwncyiBwuzpWELj9cGh2XXttvdcEFz+544WcfbHTXdt4/8t1/31pfRC4AQAAwKZyuYHb25fmgTt3NQ9rCCFwK4PA7epYPnALP6V+8LcFPqVuxtwj/zdvHzw1Z+4wdBC4AQAAwKZy5YHb2TP/icCvzMFre2iUiy/vu/N3zNN/BRvjEeN8Kfn9+dy8/GzP7PYPUbllbt/dM0+Oz0zZZxQX5uz4qXnw0R1z5xfB3yL94o7Z/fiJefHtRCqv9t01u+bwh+7Qxb9emCcf75rb73RptT+r0Kb1culYa0WB28WZefHsgbn/wZ3gYRjb5t33d83eZy/MmxlPMzx/dWj2m7rry7r9rrnz0b45+u+u3obN9VA/IXM2329/ODGHnzZt/f67Ztte4+5nf7LiVG/vH980ZX1k9u7Kst43D569HPmZi2UDt1Nz8Et3/RJB1xD83WnGjDvoUfqeOW/q6PH9oC934+HgyzeF46HBp9GPqaFvnI0kkrRlOzY/vd/3jVv//qKp1ZC3tv88+SS8V6MdLwd9H4royzzmSF9asu/PL+MwvyT3+/TQnPLkUAAAgBvJlX1Vcvf/uW1o8FWwX3069fXJYCP80VGznVlB4Pb9kbnvAwbFW819xjbMb789NA/eH4K1nLc+emre5L7mJjbPZ8+DB0skLvtUzmUDt7eFj6S/Ze4/e9OcPULypETpttn502lzvxUEbj+fmaP/uDMEa6rp9Wf/b3ekLZzZrzAuGbh9H4yNZb5a/M2jPq97fxWBjOh7F397NNq22+/nyupp+kf4YBTN7TvZnwWJ2vJtE7jKsXX3cAhqLl6a/cmxt23uPRcjeOHAbTV9f1YZv38xOb/U9RMYAAAAcFVc7sNJ+ocshJ+uXZijj9wmZOppk03gt2OvHx5u8vbiwlxYX5hHPh9fvHHHnNEOKsjv/z00j37ZbkYfmKdfvzHn9vwzc/rlgdntg7ntdLPreNtsAPtNXLMZvf/ZkTn93t/33Lz5+tDs3x0CE/tgCXdtRLB5fvLFgya42DZ3/uOpefnteZfW96fm6I87wSdEj8zLhWO3ZQK3t+bkj0Pws/3+ffPky1Nz5uv5/I15+Xw/qrtk09wTPimxKe+/PzFHr8+CunvqNqxN8PbrO+68BQO3n5rN8W+Gze+tu/vmsG/vLt8nXzb3+7e0/5089vk7MIfHQVm/PzFPg0Bw+z9fKhv1JQO3IMBY6GuSnvDNERkABn3v6V+6h5nI+jl7fWQOSvpx1D9EH27b9PiJud8HIe0n5u6ygKEtH5mDdr54b88cvnbj7+25efEs+DTKl+udXfPg2ZE5ie4VjmFxr5/fuvMuzJsvhvu9cMc6ZX2vru+Xl7Hpt++59JoyHoj7dX32XQI3AACAG8qlBW7RE+7Cd5Qb3n79qN/sjW1Czr5wG3g1wCsNSIbzWrNP6Qs+7ZD5tbxt0vFfY3uvCaSyX1d622wO7/Ubvp1nymYu+gQgv+FrP/3x5y3+oInFA7c2UP2Vu/Z2E6hkc9B+ktYHZfoGffiKbFNe/+lrwoV5+Z/DExUXC9yaDfcf/FcFb5n72UBS5/TZ/sjXU9+al5/4cu41G393uGe5wG0o15KfqpwfmXsunSQffd/bNtvbTbs2r+vt2tTjY98W+psZb//ux/ht8+hvmd7x8xvz5NcuL/ZT85ihzE1+3pn4GYMfXpgnz0e+vtm/0ZP/xHK87wyssu+XlvHt3x648+6YJ9+6gwAAAACO1QZu7Tvb37d/6xJ83Uz9Tanhb3m2sxvc4Rz9K5WLBG73zdFIwPXyE3/eg+QTriHwuF3wt3nBBl4LOsPATdnM9oR/I/iJ9glPCYsGbmfmqd9wlzxafvQrsE0e3CeV2x+/yJe3JQyQFwncgs37zhfzgrYimrbr33T4uzvWU0ngFvb5bODW+Oupv6MbxmD6ZsbQP25PfK1zeKPmnjkSXTAs8/RXp6cI6v93RyK/HWWB2yr7fnkZh/P0fg8AAAA3m6UCt0nfuW+efquHG/0DFHJfA3x94N7x1t/FLg9IgvxOBD/nf7nXnZdsnIIN4VigFTC8e648hCXYPI9/JS64r/YpYBGl9SQINqNln/YFga8MVv/ug52yB9Kc/sl/YjY/cOuvXerrpSME9ZIGV5UEbhcvzJ5LZyxwK2nX/lNv+WZGXw/KA1AkI3U2lLmsb0zRfdW1MTNexvpOzyr7fkNxGfs3BZqxqn1SDwAAADeaywnc3rlt7n869vS9BuXv10JOHruvH2UDpfmBW/+AlBz9plYGDCfD39NNpeEJNn+jD4gY+2pYw9RGdJoFA7f+ARfTefQMG9T4a4TD8fSTTI3h/LmBWxA4LfwJpcN+enxqXn79whx+dmAO2qcYRk8VXH3gNgT7q/sbt6S/9n2vIOBqCftB2BbBA1DmeO8vcR/M9Zkp3rZ/1/bqpXn55VNz8Gn3BNDoKZPLBG4r7Pst5WUMPulr5sV3/+3APqF2qX4MAAAA14alArc7fzhqNrbN5sn7qn3AQek2Y3hISfKgh/63qPSgrmOBwG0qcMkFbsFGuHxDPXLfbICYsq7AbdhslgVblky5+jJMPYzGMdxbr5/85nso68JPZbx4Yw4/2Zl+smTjqgO34VPmZmwt8zXPIKhK+uuMvmfJnD+0wTxlH8y3pc751wfmXvATHFmXCNyGc5bv+y2zynhxap4ED4axvrNj9j57ac5L8wIAAADXkkt7OEkJw2+0xRuk/pOH0a+7leZjRn5zm68gcHv0jTs2ych9Z2ye1x+4PWpSKCRTrrllGO6t109+IxyUtfST0ZDvD829/hM197ttnz4xh8f+TYkL8zZ4iM3KA7fwbxon//4sz/A7bunflM3pe5bM+UMb7JmjH9yTD0sU47k8qAkfltJof7ftkTl41r151D3dtT3Hvb6SwG35vt9SXsaBi9dHZv/fgt8ebN2+Yx58uURADwAAABvNWgO34ZO18OuEwydx4w8rKM3HjPzmNl/B3wwt8lXJZT71WFfgdvHXvSGPs78uFgfifRkKN65DOnr95DfCwcM0/lC85XYEP1Px3iPzIldVQbuuPHBr/1bqP/2nSQv+zVcwptSvGc8M3Ia6jr/mt0j/0CgOavpPI7fNvfbnP9xhySoCt1X2/ZbiMmr8dGZOnoW/JZf/uRIAAAC43qw3cGvoPx3wTxv88cjct+nnHkriucLArf3bkw+6NOY/nET5W6INCNzCH0+f/YCGD+JPi4aHvpT8XVX4dE+9fvIb4Qvz4mN3beHXMnuCR+iPljf4OuPqA7eGJv3+ZzQW+NRt+O3EzNeM+743/lMcHfk2DethmUCiNKg5/aMLaEfbNWj/JQK3Vfb9lqUCN89FM479b7wp9wAAAIDrz9oDt2ED2D2qv9/kTAZIVxm4tRti//WzqYCyJdjAa5vvTQjcwk+vSgKI4JOo5Lfrgo3w5CPfw9/Tmx24Nfvb/uu32/Me8DH6SdrA8DXESwrcmiBg+B26id8QE5z9da8P+rYzj8Mf+l5zztQDXIK2SP9mcGb/yFAa1BSNg/5Nn/x5ZfdbYd9vWEng1jA84XO5dAAAAGAzWX/g1myL/JPU9v562v97+p3uIR/jTxBcTeBmfnxh9vzXlYp/gPtX5tE3Y5961By4dV8Z839jU/wjxL98ZE5+csd7goBm67bZ/yaT0k/Nhvk34YMn5gdudtPtP5nY3jEHr/M94+z50fDpTfCJWy64bH+Uuf80rPFyAreGn5o282VovHX3YORHwRt+Pjcv/7gz/D3Ue029JG3gCAK3ti32/poJS8I23d4zL5T+fvaF/23DsR/y7jj/et88TX73bqotB/pP3LK/xXhmDvsfwm6cDNzGP/1dXd8vL+P5lwfm6X/n7hR8jXbup8kAAABwLaggcAs+Jfn1TvcTAUW/wRV8LardgD4/tQ+PuPj+pTn6OszXigK3hmjjvn3H3P+s2fjbhyK0nps3Xx+a/eCJcO1mVi3GmgK35Cmgiqc/hDmOHwix/f598+TLU3PmHzRx/sa8fL5vdt9xeWyDsleZhose/HHL7D4+NCd93Z2ZE59OEyQcfOo3uosEbg3iXjsfPzFHr8+UdgqvD4PLbbPzxxfmzbnL3/en5qjJU/ukyd0/PBr5ZG5FgVtL+9W494NApCnH7Y8emCfPXwzt9eVT8+jjnegnCrbea4Kssb/L6vveHXPvd23bbps7//HUvPz2vG+L0yaAGNp029x7nvvM6dQ8CfJ469cPzNOvu4e4DP3jwOz9uhsT2ieZpUFNO/b8VzPbMj59FbbnU/OgzUcTOD36P+6c3HgJvuK5/Zt989L2wXNz2tTrG3dKx+r6fnHgZs9r2uPfm/7qHoYj+59tD/GTCgAAAHAzqCJwi34wuHHy63SOt3+PPwHxxvlaXeDWcvHNvtkJN8qqt8z9Z2/0oK1lTYFbiWkdXZiT8NOcnCM/tu5522yaR+uuSaN9GMSw0dUfx16yEX777aHZCz61Ut3ejz+5iAK+VPupUvD1wUsN3FraT9L6DfuUTYD6yaF5k/ukzRP2ve/PzNFH4tHzkU0/zgZtjp+Ux9drNm17tEgQ3iOeKindvmf7zvR4OTdH4Sdzvdr9V9P35wVuIu3IbbPzp9P8vAIAAADXmjoCt2YrMjxNr+RvyAYu/vvI7H90u9/c3nrvvjl4FX7daLWBm6XZUJ+0nyTcDX+Q+Za5/cF98+DZC/Mm+zVKx0YFbo7zE3P46Z7ZfT94RPk7t82djx6Yp8dvzMXYj62HXJyZF5816fQ/luweu/9s+MH2qY1u8Wb/5wvz5vipefCR3k5n2rfSLt6Yo8f3zZ3+t8Ka8+/umSf+U9xLfapkhqbO7CdXTX+73X/C09jWf5O3g+cvp/ucJ+l7F+bs+InZ+83Qrrfeu2Put5+Izuhw568Om3EY569NZ/fjA3P49Vn2q4blgVvH+ddNXu8O4337F21ej8wbd4Oi8dIGxE0f3PFtvP2u2fn4KP+3bEv2/UX661CP7fjYNXufNu0RfRoOAAAAN40FArfLoH0qm9tELfGgA7gelD1BEBZixpsGAAAAAFAPdQRu/3ra/W1bY9njt+H6Evz0wtRTD2E+BG4AAAAAG0kFgVvwNcmih5LAdebtN49W8vtgkIHADQAAAGAjWX/gFnzatvMFX5K8rpx/uW8Ooqd9prz99unwcJD3+JrkpUDgBgAAALCRrCVwe2sfc90+djx4QuN7++aUT9uuLf4BDdu/uGf2n7+If0bh1ZF58vFO8PTEkZ8VgOUgcAMAAADYSK4+cAueytc79dtTsPGc/+Ve3OY5C35WAJaAwA0AAABgI7n6wO38yNx3n7Jt/2LH7H02PAYerjcX/3rZPVb9g+Fx7q0lj42HFUHgBgAAALCRVPBwEgAAAAAAABiDwA0AAAAAAKByCNwAAAAAAAAqh8ANAAAAAACgcgjcAAAAAAAAKofADQAAAAAAoHII3AAAAAAAACqHwA0AAAAAAKByCNwAAAAAAAAqh8ANAAAAAACgcgjcAAAAAAAAKofADQAAAAAAoHII3AAAAAAAACqHwA0AAAAAAKByCNwAAAAAAAAqh8ANAAAAAACgcgjcAAAAAAAAKofADQAAAAAAoHII3AAAAAAAACqHwA0AAAAAAKByCNwAAAAAAAAqh8ANAAAAAACgcgjcAAAAAAAAKofADQAAAAAAoHII3AAAAAAAACqHwA0AAAAAAKByCNwAAAAAAAAq5wYFbufm8O6W2Xp84v4PsASv9s3W1r65Ub3ph0Ozu7Vl9l+5/8PG9oOTx81cePewmRUBAABgU5gVuJ0/372iTcqJ2W82iKsNsgjcYIUQuGW4jLFbMaIfdHPkrjn8wR3IYa9bXxBM4AYAALB5VBq4XQbXLXAjEF0rRYHbNWsjPnFLmeoHldbZSgI3W/aCIFVjmWsrgMAXAADWAYHbxkLgtlYI3KCFwI3ADQAA4IpYfeDmNirt14Cs6uLmNrT9ebtmt/n/7nN/ZmbDaxf7+Dq/8NuFNHotTK9lxiZ6qgx+0/EqPi++X4ssp9jA9Zu68LyufqfKM/66+7par2yzoS66Nu3O6/Imr+3OG0XWl1Xcs9+oBen39TpRTyrdNbLOtT6a1pWWt+B1rc8mfa9V1mvMcm00wsg4aJH3jevS19uJqPPu/mF/kOkO/VXkPeofQ9/y2Pw0dXoylrZlkX7Qkl4X52mirovK5ZjqB30/b/8j79vqXuvv2Z7nWU0+4zbUz/FtkvRzQZpWnP/4NZffsddapl5P6iHuKzbvTXnifu7OEe2j9Z+kTGHdFNTxeP0qba7VvSgTAABACasN3NyilwYYyqIcLWbdseG6dPPX3Tte7NpjfmFu7xMt0m4BH46laaqUlMFvDsKNT7/gu/8nZWqQ57j/a4v44uVJ6zetu2GjG+VPy3N7bGqD15YjOselHx7rN1Sy/xTUk0p3jzivvqzDPWzbifyfPB7qQuvT8hqt73XlkWWRLNNGOtp57TFfV0lfdXU51JNv++n+kNRN31/Dcsv2S8vc5Wki7SSdhqJ+kNalPda3X0FdF5VLua5F9gP7/zTtpAzJ8dXmU6vH8Jg2LiRpG3XH+jzLsnra+0Vpuz4RHhu7NqqXBnGu70/hOf5Y1A+Ue6TlFv21sI71+kvPs8fEeV1elbIDAABMsNLArWQx09PoFs9hwZObP21BnGIqTZ2iBTmz6bDXuvRtOZN04nPUTUqWsvKM1e9wbqYuZuVnAltHQT4ydVZUTyqyPjri8mfK2dO1a1JeWw8+r5m+J8unskwbaUyMg0z7aXWi1ptsB9lmY+n316blUMdUVMeZ+zdM9QO9Lgf010UeM+WK713YDwrrTB5fXT515Dlqmwgmz8mMaZWpenLoZYn7rHqOTL9F1pf9v5Lf8NrCOlbrJnMtAADAqlhh4JZu2Dri4/pmIF6Yk7QKF0SbdnNeaDZNlbIy5DYd4eZTy0tvYbkWKY9ev/L4RDn9/ZR0sriyhHkt3qgl1zmT/IV0eZUbadlHu//7NMX91Tx73bm5NtI2ignLtJHC1DjI1HF8fKTe5L3t/YL0iuoiLbNaLpH2ov1gqs6K6jpTLnuOv3dR2RtkG+SuE8dXlk9H3O+dU20isWUZrtfLrvS3FpfX8Prp+UDMP0LfZ7XyJu1gEW/MiPLEumsL61ivP5H/qfoFAACYyTUJ3LoFOk53Ik2V3DnieGbDEm5+1c2FJFuuxcuj1688Pl0X9vw2D0k+UvwmMSqH3Ehl6qyonlRkfXRk+2i0aXP5sPWf2Xh6cm0ky6eyTBspTI2DTB3Hx0fqTd5b1k9RXaRlVssl0l60H0zVWVFdZ8oV5amo7A2yDXLXieMry2dzpq1/0Tfjc/L3U3H39eOnv3+mvy0+H+h9UyLLYpHpW7TATZ4jKKrj6fqzr7v6Kq5nAACACdbzVcnkHLlgy81fnEZC0SZApqlTUoax+/n0p+rKktvULVEe/b7y3LK6sKh5CcmkJTdJmXSK6klF1kfHdHphW070K0t3jt5GU/lepo00JvKb6U/x/UbqTfZ7m17QZmOb2v7atBzqmBJpL9oPpq4rquuxcvXlKOwHsp9n0pbHV5bPorJk2mQSkR91TKftb5mqJ0dJvmRZLDJ9i2izXFuErLr+MuUEAABYhKt/OIlyTpdueCxd/Ltz4gWwPWYXWGWxLUlTpaQMymKc5q/bNCSLe3Ntn3Zmk1BWntzmwd13tO4yddHeV6TXXTvS5g1pPlweJuqso6CeMiT3dfU23Lctp7inqFtfr3EbtNcNeU/a3+d5ol5aFm8jHe289pjPf5JXV145DmTd2nRlPu21wb1E3Vlsu4bH0r6l1oFM29fJ7H6Q1qU91qdTUNdauRpsvmU5pvpB0s+7c5IyJPdcVT6V+7k2SsqS9MuY9pz4XiLtsfxEaSv1lLnWHw/z2pL0cfF6V0Y5Hrv7hvew10bt09Kc5/NbVMe+bcT92mtFnWrn6XkAAACYZoHArV10UvuFzi+8Xm1zIM7xjyYfNht6YJHeX26YhtdK01SZKoO4V6e2ELt75s7LbBIsk+Vp8Rsif45/LT6ebmhydaHlV16rIa9rrpEbKfv/3GZlop6yiOuaduoeOT/cV+uzSX1r7SnqpttseZXyZVm0jfKMjoOGOK+yvF2dxf3IpSn7ue2fsr92P90xlX5YfzY/U2lbFu0Hsi7Hx0lS15lxKDfrLZP9QOvnUf9yr6n3XFE+3Xl9Os1r8hy1TSTKuFD7Tf+6z69sR6WeGvRrW9L2DF/X2qXLa5y+T0fWlzYn9OUq7guijPY1rf/KPLm0ivo1AABAzKzA7fLQF9hq0TZnAAAAAAAAl8QaArf2XUntndf0nclqIXADAAAAAIArZE2B2/TXSaqGwA0AAAAAAK6QSr4qCQAAAAAAADkI3AAAAAAAACqHwA0AAAAAAKByCNwAAAAAAAAqh8ANAAAAAACgcgjcAAAAAAAAKofADQAAAAAAoHII3AAAAAAAACqHwA0AAAAAAKByCNwAAAAAAAAqh8ANAAAAAACgcgjcAAAAAAAAKofADQAAAAAAoHII3AAAAAAAACqHwA0AAAAAAKByCNwAAAAAAAAqh8ANAAAAAACgcgjcAAAAAAAAKofADQAAAAAAoHII3AAAAAAAACqHwA0AAAAAAKByCNwAAAAAAAAqh8ANAAAAAACgcooDt//6r/9CRERERETENTgrcAMAAAAAAICrh8ANAAAAAACgcgjcAAAAAAAAKofADQAAAAAAoHII3AAAAAAAACqHwA0AAAAAAKByCNwAAAAAAAAqh8ANAAAAAACgcgjcAAAAAAAAKofADQAAAAAAoHII3AAAAAAAACqHwA0AAAAAAKByCNwAAAAAAAAqh8ANAGAur/bN1taWdff5uTu4Cs7N4d0u3a2tfXPijgIAQA0Ec/Tdw+Z/AFfL+gK3YOMzyEYF4KZw8liO/8HVBkOXAIEbAEDKD4dm182Nqhsf7BC4wXpZQ+CW2ZgEg736TZuj33gyeAFmMwRuu+bwB3cwmh/C49eMYL7bf+WOAQBsOmHg9vg6vvVE4Abr5coDt/Pnu9lN2fDaZmxmCNwAFkcP3FpuwMJI4AYA1xECN4BL5YoDtxOz7we01uHVAR9c8/gweDe+M930hO/Ye+ONYRw8Dud3n/Rp13cO91r0HLlBDcvWlLf/+hVfkYLrTz5wC8doOsaH6waTeUD9KrY8LzOO7dwTvNbOVf3c5PIapD+kWThXZfLWzYnivu4Si3ad3BiJfMV1xbwCAJdMUeAWz73ht6zCOat8T9aS20+1+rkvOKcx+nZXOHc+D8pgDefOkTlazWu6vgEsw9UGbpMDOhxU2kAbBoC66ZObqxaxkWkJN4Wh2a9oKmm09HmQgzcoZ59mcGxII55EBtlgwfVHHcOecNHt54phvPRjSBlrQ7rxOGqPj11nae9r75fbLLi8qnPCInNVPKfkNgVamfpj4fwT1ltjl/bYRgMAYIUEc1s+cOtI5sZg/srux1om599GdR5386d2fTh39vNkkGZ/LDOf9uUO5nk1nwDLcbWBWzgwFgncwmuSjVcwmKK00+vHvq6po+dB3Tg1aJuslvR4pmwAN4Bk0Q5R5gp9vMlFtCRICRfzeIwOTKSjLsilc1V8LF7Qlftq17doxzMbhdycBACwUoJ5STMOyMI5M/iWwuR+SJtr9flX3e/NmDvT67W1ITgW5Z09HqyezfrEbXRAhNdmdNeXBG7DRkcY5KFsIzmQ3pdBDTeXeYFbMK5yuvGWG7vDhqFk3OXHsWVO4KYdD+bCycAts6FQ0yVwA4B1MrnPE8hAT5tvG6b3ZPr8u2zglh7X1obg3jlL6gKggA37G7ew48vjufNSRgO3GXkgcANYnLHAbRgrY4tlnvFFvmTcEbgBAMxG3UONEJ6vzVHFezJ9/r3ywK2kzABLcMWBW2YQOdLNWktmQCQDLxhME5uTsjyEr+l50AO34LjIR3qcwQ43l2E8yHGoB03586cIxplNbyIos0ycMydw0zYJwbFok6DdV7u+ZcbmIzcnAQCslGBemt7XhHPmvjp/lu/J9PlXvX7G3Jler60NwTHmWLhkrjxwy3bw3OZEHYzTacQThjvfHRsL3NTBm0k3m45WluDY5EYP4AagB2JjC2AwXkQwZdOyx9pz5o3HaL5px78di0E+lgrccuXJjX39vlrg1R8L80fgBgDrJLNfSlHmxmD+Gg2o1Hvoc+pSgZt6n8zakC23O3+0LgDKWUPg5ggGyaC2qQgGo1TbUEWTQawfjKOBW8PwuvPu7viADM4dNktaPuT9cps3gOvPEEykRsGUIHddd01uvtDGemausGMxeG2RwE06kcZwzsh9tTlTzhtqvsI6I3ADgEskDGA05TzXGM734fzuj5ftyVYXuEnj9WhsbcisKY3hfAywDOsL3IohuAGATYC5CgBgI8m86QVQGwRuAAArgbkKAGAjIXCDDYHADQBgJTBXAQBsJARusCFsQOAGAAAAAABwsyFwAwAAAAAAqBwCNwAAAAAAgMohcAMAAAAAAKgcAjcAAAAAAIDKIXADAAAAAACoHAI3AAAAAACAyiFwAwAAAAAAqBwCNwAAAAAAgMohcAMAAAAAAKic4sDtu+++Q0RERERExDU46xO3//nfHxEREREREfGKJXBDRERERESsXAI3RERERETEyiVwQ0RERERErFwCN0RERERExMolcENERERERKxcAjdERERERMTKJXBDRERERESsXAI3RERERETEyiVwQ0RERERErFwCN0RERERExMolcENERERERKxcAjdERERERMTKvWaB2z/Nn3+7ZXY+/6fyGiIizvb152Zna8tsWX9vvtLOafzqYfP6bz83/1BeW4nHv2/u/6H582vlNUTEqmV/iquRwA0R1+I/Pv/QBQOh139jbgOcpNyx65rDujYJ26B8TiVwQ8S1G73RFLveveH12J/aNWJknpfr28Pj9BxcTgI3RFyLXZAQf4KTBg5lXnrQcGl2c9bWw2PltQq0m6Cy9lhZG+QCtEsL3JZpg8rbb0q3yd3ozRUBPYZW26evw/702DxsA7LMPJ+sAYzNS5HADRHXoha4+YVh7hgmcLsk7cKb/3pkKIGb9nrlErjhJug/RSuZXwjcypxTpz5g82rXqPW+4fNjpV554NZt1oIO0Coa1W8AvorO1SZm1ynCtBoJ3BDrVw/cMhO93ZwF4zxYOPJzir5QJvftN37B4mTTH/Ji56Q+/TSQiV/Xz9HVy9sHQUG5bTns4ijnwvl1ljXcBPuFPXBsbi2et2W6Yb6Ue/Z16fN2HJ9TNt+LjUerq6+07YY0x14reT3pm2Eb+bYU5enOcW3qj6ltJ8sU1/V0eyh1Eryejqs4/dTx9KyufR8eh+WTYzG4fqrPlvQXOa59vUdlWeEYutH6dpX169pgbv0F9V8ciPV9THltwvxaMpxTPM/JMewsm69Cff8Va4rv+7LPTrlInQb68ift2I+3+LitU8bNSl1L4BZ1XNf5tMUwXQDDjus6c9Rpu4Eyf2Ag4lWbjunWblyPj/0fk8VDX0z0+SBJr1/IZF6GhTdc4Eru/dVDbSHXdPfQNgfJ/NZYuOksqTNVufhmFmNNn+fRtsvO97I9lHv6dgrLULRJS/uUPdano7dBa5u3KG2Xh+HY+LVxfYtz/cZLKU9cfuUeWrlFvc1pD1l/Wv9pj03Xs9LnlPtp7buyPhsdF/dvtXmQ569wDN14XV0WjK+cXd23bae065R9HwsVfSBje99onnBppfPVxLha+f5UpqfNaeMuVaeBuTGgjZex47i4VXxV0naEoIOrHUNMtnpnWGZgIOJVqo3hdOx3C1SyYRTzgb6Y6PNBct/cxi+34bDn++vnb0pi9etzi2PZprOszlRlXWTrJlXPc5yXsXP6dsrdUz2ut3Gk23zlg445bSjvl7k2V9dh3xlpS1keWW/2/0l+42vVupb3zNSN3k4LWHi/lfbZqeNqmrIdl8gPNnb119bnnL5kz22vS/Z2y+jadsE05VgrGVeXsj91Y2fn82PRV8dddZ3m2jMXoOWO4+KuJXDrGtJ3JufMgaF3niUHBiJemdo8kIxdt1jJ8zoXmw+ShSS3wUs2c85w890Yl2Pupk6/R25x1DeOIo3COlOVdZGtm9TpNsjUpzyeu6d6PEw/PB7q0vd1kMljmq9OW66oDsP7Za61eU2v63R9Z6Qt1T7b51uUR+ivVdtD3tP1lSRAEflPA62cbsMeWXC/VfbZqeMj9b6SMYSdfR8q37QPY23FG33XnuPzRGfN+9M+b0naeVddp3rZlHV14jgu7hUHbn7BiRvRdoRKBgYiXo1yQveLUrSpUzdZqXPmg2QhyW3w5GbOa89XFqJ+o9JaurnT75FbHPX6EGkU1pmqrIts3aROt0GmPuXx3D3V42H64XFdm0ffRn1ec/lyQUhUJnm/zLU2rxOblZG2VPusyO9UmdX2kPe0/x8JzNzrvs5GAzhbZpGv0vvJ8+Y4q780qvcS7bhMfrDT9YfS+SPUrwWLXKvbjeXxMeP6QMX706FeJuYWxVXVqV62xsx4S9ZbXNqrDdwyk/YiAyNeyLzLDwxEvBq1Cd2O/WjyL1lwf5y1UCb3zW3w5GbOa88fW4jK8typ3yO7OJZsOmfdXyjrIls3qfl5e5jz9XKJ/ObuqR5fcM6P0hpr56n7Za7NrHWRI20pyyPXu2z/CMy3R3DPknxaM+UMXO5+K+yzU8dH6n0lYwgbh/qz/WLRjbttw/b6kj46Ykk/z5xj8x/0+5J+fin70z5/rq9OjP+sS9apWv7WwvrD5b3iT9yUydB3opkDw3eSMK1uQ8Zki7gJaoFbv4GSi2CyILTnDdfqaf2YziVu3lhd4NaeI67NLGC6+j2yi6Myh/r6CdMoqTNVWRfZuklN8+zKptR/mH97XdgeufpT89LdY3TOb9MTdSn7S37NifPh6zXJv9JWXblkfpv28+fa9MvKY++r1KPsN+15Pr/5MoX31AOU9tq4/vXzQmWd9u0f3k+pU6+v2/i1gj6bSzPbdy95DN14Xbv3ddnVt+yrs/T9XRln0rTvuvxMXqv0cduH4rwXjSuXX62PjY2hvCJvSvqznVGnoWr5c6+5+tPGOy7u1f+Nm+8s3mZA2MaeOzD6Y0Na/o82l+rMiHglphs9r9/wBRO+X0BDo43AcE38mjjezCvdY5yD+2Y3eHID4rTnD9f3m77A8oVKv8fY4pib9/R8DudZ5TlSWRfZuknt8vxhPL9rZZBrgHJOXKeurtW8dPU3PueLPhCm2es2l84+PVGH+hqTubZR6xv969qalimPTSepp/i+nUO5itfRqIzuNVHuVpknTXvP/pomLftTB8H9XNtnx4dy38k+21jeX5yXOYZutH6sifHl6zs3p61QbcwVt5noF+11tk8H1xePq0wfKxlHsW6cy3v6vnkl/VGba1rlPPqjmAMI2i7DtTycBBEREREREcslcENERERERKxcAjdERERERMTKJXBDRERERESsXAI3RERERETEyiVwQ0RERERErFwCN0RERERExMolcENERERERKxcAjdERERERMTKJXBDRERERESsXAI3RERERETEyiVwQ0RERERErFwCN0RERERExMolcENERERERKxcAjdERERERMTKJXBDRERERESsXAI3RERERETEyiVwQ0RERERErNziwO27775DRERERETENTjrEzcAAAAAAAC4egjcAAAAAAAAKofADQAAAAAAoHII3AAAAAAAACqHwA0AAAAAAKByCNwAAAAAAAAqh8ANAAAAAACgcgjcAAAAAAAAKofADQAAAAAAoHII3AAAAAAAACqHwA0AAAAAAKByCNwAAAAAAAAqh8ANAAAAAACgcgjcAAAgzw+HZndry2xZ982JO7zJnDz25dkyu8/P3dFCXu031+2awx/c/wEAAK4IAjcAWAvnz3f7zfPg9d8Qh0FDztnBxIro2iRsg3NzeHd9+bkUbOC1RABK4Lb52DbcMvuv3P/h+hC90VTHvFoNvm4eX4e3324uBG4AsBa6ICHeQKeBQxk2GLp72IQZm0YXGFW7kNqF/noFKbavlNR3LkBba+C2TH+pvK9N4Tad9QRbG16f15Xq+kktnJh9F8DSZzcbAjcAWAta4OYXl7nvjBK4XRLLfjpVHV19F/UvAre6IHC7ufhPikrm+GsfuLl+N2sO8n31kD57DVhL4Ca/IiUX0X4TZhdI/RwA2Gz0wC2zGQrmAmuwgMv5xGqv79KSc0dy334jHrwjadMf8hJ/vTENZOLX9XN09PJm50C7KZEL9vw6y9LXRfNvv1kKnJqHS+f2k+g8bQPiyhSkVboRk20RXlfcTkrZ+3N9Hb2Kz9HqJumbso1Ugn4orkvzP9x37LWW8dcn6tv3O1HmLl/iWq2fTfRFm7fRfqHUSfB6OgdofSpA29zP7O/5+hzGY5iv9l72GnWcyvwu3v/Xi8+3LI9rv5I5KCToN8Xl19p2BqVzWMn+1KelpjHVRxOCMVA0jwz0eQ76JmwuVx64dR057LCuMwYdqZ8Q6VwA15ZuLpAb524+CBc67bxhIdL/39EtUnLRTNLrF2CZl2HzFG4CSu598rh0UdYX0uwc6DfQ2iYvOLekzlTkJlLdVOrMmdvH2zftA6WbsS79IC133ZDWjI1Lruy+v4R1qeQvre+Seytlb4/16eTTaO8X1Y/L53Asd21Bfbv/a2WO62ixvljUL5Q6btHSb4/J8yIy5YuuaY+NtlWuPt1xUZ4WW055ftLPFu//deDKX9Bnc3Rt2tZh2dwT4eqqu94b948c3X3L5rDS8sg0tf46SlAe2Z9KiO83vy2gPq44cNMWpQYxcclJHQCuH9oClo79bs5INix2MZuaM7pFSs43yX1zG/TcImfPX9VCqF+fnQNFuTtkGmV1piLrIls3kiXmdpEv2z5K2e21Y/XsNjiy3AtvXHJlV4936fblz9W1vTbu8xGZMgzM6W8iT5lri+pbLY9MvyNu4yXGr7xnpm7Ua6eQaRX385BcW+TbSO3D4t4L9/+q6Nq9ze+c9rHntteNjZHZuPaYTHOJOWyCrlzN/ef0M3tuVx/5+WCC5H75vgmbw9UGbpmJVx5fZGAAwGbRbai7hcmbLJpubpDndU4tpvrGMt7IN2QX08wiZ88fro/LUbgo9+j3yM6Btj7kPUQahXWmIusiWzeCZeZ2UaZuk5NxbMORy2t0fMbGpSg9j+hr9hyR996xDaTLnz8306dz+dfqbuj/+rVF9T3S79Tx5fNd2BdL+oXsSz2irpPXNZK0XKDhLekf2bbIt5Etpzwu+tPC/b82+naZCpgGhrKXX1OEa+9kfQnJ9S9xXO2rkwz9q6h/tgT9uviaCO1Nk/H5AzYDAjcAWAsygPIBUDQ/2LlBbhhT9DljZGMZbgzExmkgs8jZ85WNRbDQ6ulp6PfIzoFqfYg0CutMRdZFtm4Ey8ztIr/2nEU2Frm8RsdnbFyK0vOIvmbPWW7zaevB96e+znL5dxvDqG5FnjLXFtX3SL+bDtyUOhSU9AvZlxLc677Osue1ZNNydeTTGa2XXFvkjmfqWvSnhft/bdhyNWUpaH+JXwsWuVYn82laSK5PiONqX51kCNxG86AR9Ot51w73zDk6RqBa+KokAKyFJIBqsGM/WqwLFtwGfc4Y2VheRuDWU5bnDv0e2TnQLuIyrzKNOfcXyLrI1o1kibldlEnrF0VkNl5xevlNdUKu7Opx0dcyeVmI6H5jfXIiT5lri+p7pN/JNrfp9W28xPiV9yyu00wdhRSkNV0vufvk72/LOdF2C/f/qhja3ZZ50fLYummvX3IsFfWdJeawCfprXHkWK0uXP1sfY317lIKxAdVT78NJZg4MANgs9A2KW1iSjYxc7Nrzhmtzm51kLnELeHSuuultySxy9nx/fXuOuLZ4g9mi3yM/B6abC18/YRoldaYi6yJbNyndPcNzC+d2W1/KdfK8Ji9FAUDYtq4thusybaqRa0e1Trp0w/x1eZHnNWUbW9vae4rXZd/O12GcV98Hkjwl9y+o76SNWtIyt9j7BmmV9MU5/ULer702Tls/L0LWV9umxWNwQD8n38dkW/q8quNmrD2qRpbfladkzOVw7TXVHi1pf3D5Kbi2ax+lLYK8l/SLENnm9vqoD8zFlScZjyXk+yZsDlceuLX4idyrTcRzBgYAbB7pJsbjFyaxsQrmDGu0+AzXxK+J48280j1yPLivuhFvySxy9vzhejmftcYbhzH0e4zOgX4T49x9fjKSz+E8qzxHIusiWzc6C83tI0FBmFZpPrqN0aC6iZuqB0dcHtfmap106cryan1jfPOtlVuOEb/Z7+zTE+3t+0V8v8y1U/U90kZqmWUbT/TF4n4RpeNeU9Ier+MGN4aGvhHXizU3/iK0+hzvY3H/bNp2pD8N57XKc2rE51v0WT9nFdXpcmhjrnS8tyw0h2Xwaalz0Frac7xvwmawlsANAAAAAAAAyiFwAwAAAAAAqBwCNwAAAAAAgMohcAMAAAAAAKgcAjcAAAAAAIDKIXADAAAAAACoHAI3AAAAAACAyiFwAwAAAAAAqBwCNwAAAAAAgMohcAMAAAAAAKgcAjcAAAAAAIDKIXADAAAAAACoHAI3AAAAAACAyiFwAwAAAAAAqBwCNwAAAAAAgMohcAMAAAAAAKgcAjcAAAAAAIDKIXADAAAAAAConOLA7bvvvkNERERERMQ1OOsTt//53x8RERERERHxiiVwQ0RERERErFwCN0RERERExMolcENERERERKxcAjdERERERMTKJXBDRERERESsXAI3RERERETEyiVwQ0RERERErFwCN0RERERExMolcENERERERKxcAjdERERERMTKJXBDRERERESsXAI3RERERETEyiVwQ0SszK8ebpmt335u/qG8di08/r3Z2vrQ/Pm18hpekf80f/5t088eHiuvXb7/+PzDpg8092+dm4fXn5ud5rqHx8pr18L1ts3GaOcR6qlEO96u85oS6cbPNV1jCNwQcS1GG7deNvOtBG44pe0jyfjpLAtorio4ODYP23yF97GB1xLtT+A2orv22m/Su3618/k/ldfWZ35c/t58pZx/VW5a4DaVX1nP2lxwXdfRzQ3crv3EjXi97QK3eDHrjt2cDX1uYbmuC06vDNzWPZ9v4HqyfB9Z36c6xZvIXLvcuMBtfW21Tsf6uLZ+1GCtc3fxmKtC92ZPJr9JHefeCLym8wSBGyKuRX3hrfNd1Msyt8jXuvivTAK3pV2+j6wvGLB5L7lvrl2u/fpP4Naa7+NXuU64ui98Q7HWuXttgZsbq2X3dgGbV7tGHfv58XEd19IrD9x8JX5lN22ucdQBIRow2uDJ11rLBhUi1qEeuGUmYP+3DN5wIp7xblt3zyCd6D7DvcPzuuuVOUfkcTzt1OT84JryedJvKganN7Nj5Wwcq2vrWF10acsNVXefoK2jNlvNfN4v0EH+h3yM1dPI/W1aU28ujNSnL+ex27w4kw2n39yMnSOc2pDY10fTHPLdH5vMx1g95ozvk/b7XFuPtEs/tsU5YVm8k/05dfG+1Dlaxpl9qv3/dFvGan0jTUPmYUXOaBtZT2GZ0jps9Gn4cSX6jb9G1k1X9lw/yxnkX+tXGbW6L1IZe0kblc4njWr9jebLl1fc0+drRh1Yg7EzPUekZutxrO1nnL/JridwaxoyHaBhZ3EdKOgo3TlB5feTg78GETfJdNy3yg2Mfl48qafXpOek/083rsOGLE5LS785Nitt3fS64PhkPSj5KpoXc+VctK7DuujSnkxXLqYrmM99naV1XlBPufvbfE710Xx99puXsI1L7t0eK+k7bdpCn4f29ShNl5fhmOijk/lYsr8F5Yn71Ii59N3xqfEw3Z91l+lL2j3bY30Z5vSp/v5pHY4py6iV+auHl7SZndU2YR66c0r6ib0204YyXa09Ru3zL9q50L7vBBal0943KpNr8/BYyXzS2OUh7YO5OhuUbaD09wm7+m7vv1z/Gm17pT3z7dyVYXyO2izX9olb1Bi2400NtIJFBhE3Rm2cp/NDZtKdnDPEdeL83mgTldkcTc01RWnr5han4nkyd+3oBi+3CSyo66m6cGnLhT5pH1s3QZ1Npjttri6L6il3/4U22YGynFZRR+o50+bKm1e2jcj3RD5W2d+K855rl8zxOC9lc4dmLn8ldTBZtoX6VFqHY8Z5mHft0s5oGzlPyD6Yq8s4rVT7elvHc8aWPbe9Tukzy+jSTcpaouwranm69u3Tz9R/ru8muut3Pj+e3+ds/cm+vZi5tk/Wkonj2Xlgg60ycMs1WHQ80zkRcTPsJtp2oh9MFjc3zuV5ncECJucDdcHT0mj15+U2OO64P1/OTUVp6xbNdV5tnlTv2Ti62GbKWVTXE3UhNxHOZFGVG5AVzOejddmXQ+jrIHd/2Y+sKw7cXHpJnibMlTdUK3s+3+P5WGV/K8m7NdcumeM2XX+fov6sm8tfUR2I+WA1fWqkjynK/Mdz7XjZl3ZG20y162g7jNbF0JeTe+QM2q34mkK7fjO+FljVPjsyb1rFfKKe4/pAyZhr7PtL4fmtXRlFfpcw1/bJWjJxPKmfayCBGyKuRTnR+sUiGtNibhjTzg92MVcmanWzJJ3eHNl72MUpmIuK0tYtmuu82jxZuJGLzZRzRl23qnWRWSSTRVVuLlYwn4/W5VQ95e6vtu2qA7f4eF+nE3nOlbfTbVyj1+V9c/nW87HK/jae98Bcu2SOR3mc2Z9Dc/mbVQcuj74e+7wu1KdybaWbrV97b5+nxepm0uK2mW7XxdthCNzScTZh0G6zr82YDyoG1fVP9pWS+UQ9x6VfMuYafV6m8qw5XLtc/xrvw5nyqfnt+kLS1zZYviqJiGtRG+d2fogmZbmhGdFP6PYPt8XEXjRfzNgchYvHEnPR6MZkoXmyxFw5Z9R1aLSQik2EM8mrXHxXMJ/n6rKonnL3t/mU105tsgNlOa16HYWW5DlXXmvRfUfy7Qzzscr+Npr30Fy7ZI7bdPv7LNifG5fqS4mi/Av1qem2Cp2u38XrZtJl2kb029F2GClff51Nb9F5pcujDUIK6z3ndHtk2lf2lZJxbetfnjNdZ719+7k8lVyj6ep+0frP1llR/wrt2nGxPlCnVQZu/YAJGqGbMNNzLmXiQcRLV98EucUiGOvdeXLibc/LXatP4HbuSRa0Zh7p5yN3vby2nZ/EnCXzPp22rl4HP86bJ+V5zYI5Pi9mytk4WdeldRGe4xba8Q1Ifj7X85Sq1pm1pJ4y93d5D+/dtXV4br4+izZa7Tni2nxZBkfPUfLt6zGb78l8rK6/lZSvs7xdWm26wX0m+3PGfP6m66C9Nr6fKMOCfaq8zn4U57ZpiT6Yqb+VOKttlPksOUdpK3Vcdcprurodb+9xXVtk7hfZll3pG4vNX64+RufN1i5/Sd8J03JtMt1/9L46pL2AxfeOHevvyWtjdTzSVzbVSgO3Vt9pvbnB61+/Xg2DeN3NLsr9QhlMxNFYdwYLvFffqKWvh45tlqLj0XVpvsfTzinSdvcunye1vE3NhblyOkfruqQuxDlNObqfNZjYgGTm87EFPHT8vIJ6yq0noj78Y86n+42/VrZHd/5wvVzrGpcub6PIt3/YQD7fJfkoqMfEtH5K29SqtYvbDE4FB1ZRD1atrQKX6kvK/ZJ5QJxT1qfi9knSDJT51+amqUBiYWe0jcxXWiZR1/31sr469fnfpzHVT1ehMoaK7yv7VTNf2n4yMW+66+K6EGk1fcHOwaNjzuVdnuP76sSYWY1a/bWm663tT8E5uf48PpY30ysP3BAREcvUN2iIeLPtgrR0Q4/Ym3kTYdMlcENExDq1Cy+bM0SUuk9nruSTINxEr+Onba0EboiIWKX2XXU2ZoioeaVf48PN8Sq/Hnv1ErghIiIiIiJWLoEbIiIiIiJi5RK4ISIiIiIiVi6BGyIiIiIiYuUSuCEiIiIiIlYugRsiIiIiImLlErghIiIiIiJWLoEbIiIiIiJi5RK4ISIiIiIiVi6BGyIiIiIiYuUSuCHiWvzq4ZbZ+u3n5h/Ka4iIiIgYS+CGiGuRwA0RERGxXAI3RLxy//H5h2ZrqwncQh8eN6/90/z5t92/w3MeHjfXHf+++ffvzVdRWsfmYfP6zuf/DI4p6du0w+sQERERN0sCN0Rci/onbi5wU4Kx0sAtTXcIBofrEBERETdLAjdEXIujgZsWZJUEbq8/NztbH5o/vw7PaVSvRURERNwcCdwQcS1eSuBmz2muVyVwQ0RExM2VwA0R1+LlBW4EaIiIiHj9JHBDxLV4eV+VdA8zic5DRERE3GwJ3BBxLXZPfpSB2EjgpgRlNvgLA7f+mPw7tybAS4JERERExM2RwA0R16QL0prAy2qDtZHArVX8DdvDY/GJm1P7uQF5DiIiIuImSeCGiIiIiIhYuQRuiIiIiIiIlUvghoiIiIiIWLkEboiIiIiIiJVL4IaIiIiIiFi5BG6IiIiIiIiVS+CGiIiIiIhYuQRuiIiIiIiIlUvghoiIiIiIWLkEboiIiIiIiJVL4IaIiIiIiFi5BG6IiIiIiIiVS+CGiIiIiIhYucWB23fffYeIiIiIiIhrsDhwAwAAAAAAgPVA4AYAAAAAAFA5BG4AAAAAAACVQ+AGAAAAAABQOQRuAAAAAAAAlUPgBgAAAAAAUDkEbgAAAAAAAJVD4AYAAAAAAFA5BG4AAAAAAACVQ+AGAAAAAABQOQRuAAAAAAAAlUPgBgAAAAAAUDkEbgAAAAAAAJVD4AYAAAAAAFA5BG4AAAAAAABVY8z/B0UNaxoF39KPAAAAAElFTkSuQmCC)"
      ],
      "metadata": {
        "id": "OFsxw_cQ4Dvc"
      }
    },
    {
      "cell_type": "code",
      "source": [
        "x=5\n",
        "print(not(x>3 and x<10))"
      ],
      "metadata": {
        "colab": {
          "base_uri": "https://localhost:8080/"
        },
        "id": "RVAPkLiW4TbM",
        "outputId": "c7dc0d36-47e3-4ae7-e8ce-0b6ae57f464c"
      },
      "execution_count": null,
      "outputs": [
        {
          "output_type": "stream",
          "name": "stdout",
          "text": [
            "False\n"
          ]
        }
      ]
    },
    {
      "cell_type": "markdown",
      "source": [
        "**To find average marks of 5 subjects.**"
      ],
      "metadata": {
        "id": "KDexFSpnB2uj"
      }
    },
    {
      "cell_type": "code",
      "source": [
        "# Get input from the user for each subject\n",
        "subject1 = float(input(\"Enter marks for Subject 1: \"))\n",
        "subject2 = float(input(\"Enter marks for Subject 2: \"))\n",
        "subject3 = float(input(\"Enter marks for Subject 3: \"))\n",
        "subject4 = float(input(\"Enter marks for Subject 4: \"))\n",
        "subject5 = float(input(\"Enter marks for Subject 5: \"))\n",
        "\n",
        "# Calculate the average\n",
        "average = (subject1 + subject2 + subject3 + subject4 + subject5) / 5\n",
        "\n",
        "# Display the result\n",
        "print(\"The average marks for the 5 subjects is:\", average)\n"
      ],
      "metadata": {
        "id": "h1bguLWvB0pq"
      },
      "execution_count": null,
      "outputs": []
    },
    {
      "cell_type": "markdown",
      "source": [
        "**For Loop**"
      ],
      "metadata": {
        "id": "Z-S_a_IlCG7s"
      }
    },
    {
      "cell_type": "code",
      "source": [
        "fruits = [\"apple\", \"banana\", \"cherry\"]\n",
        "for i in fruits:\n",
        "  print(i)"
      ],
      "metadata": {
        "colab": {
          "base_uri": "https://localhost:8080/"
        },
        "id": "mqtK_hO3CcAO",
        "outputId": "174df0ae-6bb3-430b-ce72-ea222d09f599"
      },
      "execution_count": null,
      "outputs": [
        {
          "output_type": "stream",
          "name": "stdout",
          "text": [
            "apple\n",
            "banana\n",
            "cherry\n"
          ]
        }
      ]
    },
    {
      "cell_type": "code",
      "source": [
        "\n",
        "\n",
        "for i in range(5):\n",
        "  s= input(\":enter your marks:\")\n",
        "\n",
        "print(s)"
      ],
      "metadata": {
        "colab": {
          "base_uri": "https://localhost:8080/"
        },
        "id": "hPZlUeqJ7Cvb",
        "outputId": "d9b8bd0e-46ee-482e-982c-1041bbb2c452"
      },
      "execution_count": null,
      "outputs": [
        {
          "output_type": "stream",
          "name": "stdout",
          "text": [
            ":enter your marks:1\n",
            ":enter your marks:2\n",
            ":enter your marks:3\n",
            ":enter your marks:4\n",
            ":enter your marks:5\n",
            "5\n"
          ]
        }
      ]
    },
    {
      "cell_type": "markdown",
      "source": [
        "**To find average marks of 5 subjects.**\n",
        "\n",
        "**using For Loop**"
      ],
      "metadata": {
        "id": "_bdsEMQ1DXnq"
      }
    },
    {
      "cell_type": "code",
      "source": [
        "# Initialize a variable to store the sum of marks\n",
        "total_marks = 0\n",
        "\n",
        "# Get input for each subject using a for loop\n",
        "for i in range(1, 6):  # Loop from 1 to 5 for 5 subjects\n",
        "\n",
        "    subject = float(input(f\"Enter marks for Subject {i}: \"))\n",
        "    total_marks += subject\n",
        "\n",
        "# Calculate the average\n",
        "average = total_marks / 5\n",
        "\n",
        "# Display the result\n",
        "print(\"The average marks for the 5 subjects is:\", average)\n",
        "\n",
        "#print(f\"The average marks for the 5 subjects is: {average}\")\n"
      ],
      "metadata": {
        "id": "k761PdnJBQhq"
      },
      "execution_count": null,
      "outputs": []
    },
    {
      "cell_type": "markdown",
      "source": [
        "-----------------------------------------------------**C3**------------------------------------------------------------------------    "
      ],
      "metadata": {
        "id": "CcqikU8hsRLb"
      }
    },
    {
      "cell_type": "markdown",
      "source": [
        "**To Find the leap year**"
      ],
      "metadata": {
        "id": "EXfJsOHZfOfF"
      }
    },
    {
      "cell_type": "code",
      "source": [
        "# Get input from the user for the year\n",
        "year = int(input(\"Enter a year: \"))\n",
        "\n",
        "# Check if it's a leap year\n",
        "if (year % 4 == 0 and year % 100 != 0) or (year % 400 == 0):\n",
        "    print(f\"{year} is a leap year.\")\n",
        "else:\n",
        "    print(f\"{year} is not a leap year.\")\n"
      ],
      "metadata": {
        "colab": {
          "base_uri": "https://localhost:8080/"
        },
        "id": "Sk36I7qTfVyA",
        "outputId": "8ceb258a-0de4-4dc4-8323-f614a0b585a2"
      },
      "execution_count": null,
      "outputs": [
        {
          "output_type": "stream",
          "name": "stdout",
          "text": [
            "Enter a year: 2025\n",
            "2025 is not a leap year.\n"
          ]
        }
      ]
    },
    {
      "cell_type": "markdown",
      "source": [
        "**Looping Through a String**"
      ],
      "metadata": {
        "id": "iWKaXl9jp85T"
      }
    },
    {
      "cell_type": "code",
      "source": [
        "for x in \"apple\":\n",
        "  print(x)\n"
      ],
      "metadata": {
        "id": "vgRvpVJJpd8n",
        "colab": {
          "base_uri": "https://localhost:8080/"
        },
        "outputId": "03d77c88-8c4c-43ae-ce53-8afc470f530b"
      },
      "execution_count": null,
      "outputs": [
        {
          "output_type": "stream",
          "name": "stdout",
          "text": [
            "a\n",
            "p\n",
            "p\n",
            "l\n",
            "e\n"
          ]
        }
      ]
    },
    {
      "cell_type": "markdown",
      "source": [
        "**String Length**\n",
        "\n",
        "To get the length of a string, use the **len()** function."
      ],
      "metadata": {
        "id": "TlAQ_sV7ryys"
      }
    },
    {
      "cell_type": "code",
      "source": [
        "a = \"Hello, World!\"\n",
        "print(len(a))"
      ],
      "metadata": {
        "id": "4VRo5el-r8FF",
        "colab": {
          "base_uri": "https://localhost:8080/"
        },
        "outputId": "e4449209-6160-48c0-cbe3-8a78608058dc"
      },
      "execution_count": null,
      "outputs": [
        {
          "output_type": "stream",
          "name": "stdout",
          "text": [
            "13\n"
          ]
        }
      ]
    },
    {
      "cell_type": "markdown",
      "source": [
        "**Check String**\n",
        "\n",
        "To check if a certain phrase or character is present in a string, we can use the keyword in."
      ],
      "metadata": {
        "id": "r1SXoAuksBUa"
      }
    },
    {
      "cell_type": "code",
      "source": [
        "txt = \"The best things in life are free!\"\n",
        "print(\"lona\" in txt)"
      ],
      "metadata": {
        "id": "ZuwgVenVsIw2",
        "colab": {
          "base_uri": "https://localhost:8080/"
        },
        "outputId": "4643c701-cd65-4288-85e8-e12d2a1ae170"
      },
      "execution_count": null,
      "outputs": [
        {
          "output_type": "stream",
          "name": "stdout",
          "text": [
            "False\n"
          ]
        }
      ]
    },
    {
      "cell_type": "markdown",
      "source": [
        "**Python For Loops**\n",
        "\n",
        "A for loop is used for iterating over a sequence"
      ],
      "metadata": {
        "id": "dXnT2k_Bufxl"
      }
    },
    {
      "cell_type": "code",
      "source": [
        "fruits = [\"apple\", \"banana\", \"cherry\"]\n",
        "for x in fruits:\n",
        "  print(x)"
      ],
      "metadata": {
        "id": "5Di1KkPbvRH6",
        "colab": {
          "base_uri": "https://localhost:8080/"
        },
        "outputId": "6108f559-246c-4342-b78e-4840df11df64"
      },
      "execution_count": null,
      "outputs": [
        {
          "output_type": "stream",
          "name": "stdout",
          "text": [
            "apple\n",
            "banana\n",
            "cherry\n"
          ]
        }
      ]
    },
    {
      "cell_type": "code",
      "source": [
        "for x in \"banana\":\n",
        "  print(x)"
      ],
      "metadata": {
        "id": "h7b8Gp9Svg6S"
      },
      "execution_count": null,
      "outputs": []
    },
    {
      "cell_type": "markdown",
      "source": [
        "**The break Statemen**\n",
        "\n",
        "With the break statement we can stop the loop before it has looped through all the items:"
      ],
      "metadata": {
        "id": "TdoM-G64vmSd"
      }
    },
    {
      "cell_type": "code",
      "source": [
        "fruits = [\"apple\", \"banana\", \"cherry\"]\n",
        "for x in fruits:\n",
        "  print(x)\n",
        "  if x == \"banana\":\n",
        "    break"
      ],
      "metadata": {
        "id": "EWSen_5tvxOk",
        "colab": {
          "base_uri": "https://localhost:8080/"
        },
        "outputId": "43ef64cb-1acc-4794-e33e-2804b21e1cca"
      },
      "execution_count": null,
      "outputs": [
        {
          "output_type": "stream",
          "name": "stdout",
          "text": [
            "apple\n",
            "banana\n"
          ]
        }
      ]
    },
    {
      "cell_type": "code",
      "source": [
        "fruits = [\"apple\", \"banana\", \"cherry\"]\n",
        "for x in fruits:\n",
        "\n",
        "  if x == \"banana\":\n",
        "    break\n",
        "  print(x)"
      ],
      "metadata": {
        "id": "3IG8oXvvwIJJ",
        "colab": {
          "base_uri": "https://localhost:8080/"
        },
        "outputId": "14e3d7cb-f11d-42c0-a58a-c791c33fec20"
      },
      "execution_count": null,
      "outputs": [
        {
          "output_type": "stream",
          "name": "stdout",
          "text": [
            "apple\n"
          ]
        }
      ]
    },
    {
      "cell_type": "markdown",
      "source": [
        "**The range() Function**\n",
        "\n",
        "To loop through a set of code a specified number of times, we can use the **range()** function,\n",
        "The **range()** function returns a sequence of numbers, starting from 0 by default, and increments by 1 (by default), and ends at a specified number.\n",
        "\n"
      ],
      "metadata": {
        "id": "KIzcRn9BwaKJ"
      }
    },
    {
      "cell_type": "code",
      "source": [
        "for x in range(6):\n",
        "  print(x)"
      ],
      "metadata": {
        "id": "M8gRnl1Aw0h0",
        "colab": {
          "base_uri": "https://localhost:8080/"
        },
        "outputId": "0a809928-595f-4148-f9bd-6f9493d14744"
      },
      "execution_count": null,
      "outputs": [
        {
          "output_type": "stream",
          "name": "stdout",
          "text": [
            "0\n",
            "1\n",
            "2\n",
            "3\n",
            "4\n",
            "5\n"
          ]
        }
      ]
    },
    {
      "cell_type": "markdown",
      "source": [
        "**Note that range(6) is not the values of 0 to 6, but the values 0 to 5.**"
      ],
      "metadata": {
        "id": "ziMR8KafxCQG"
      }
    },
    {
      "cell_type": "markdown",
      "source": [
        "The range() function defaults to 0 as a starting value, however it is possible to specify the starting value by adding a parameter: **range(2, 6),** which means values from 2 to 6 (but not including 6):"
      ],
      "metadata": {
        "id": "3sKLUnP1xF7R"
      }
    },
    {
      "cell_type": "code",
      "source": [
        "for x in range(2, 6):\n",
        "  print(x)"
      ],
      "metadata": {
        "id": "f9YLRy3ixStJ",
        "colab": {
          "base_uri": "https://localhost:8080/"
        },
        "outputId": "aad1b4a3-bb18-4664-d58d-eafb04672142"
      },
      "execution_count": null,
      "outputs": [
        {
          "output_type": "stream",
          "name": "stdout",
          "text": [
            "2\n",
            "3\n",
            "4\n",
            "5\n"
          ]
        }
      ]
    },
    {
      "cell_type": "markdown",
      "source": [
        "**Nested Loops**\n",
        "\n",
        "A nested loop is a loop inside a loop.\n",
        "\n",
        "The \"inner loop\" will be executed one time for each iteration of the \"outer loop\":"
      ],
      "metadata": {
        "id": "vxR1TRhVyEGs"
      }
    },
    {
      "cell_type": "code",
      "source": [
        "color = [\"red\", \"big\", \"tasty\"]\n",
        "fruits = [\"apple\", \"banana\", \"cherry\"]\n",
        "\n",
        "for x in color:\n",
        "  for y in fruits:\n",
        "    print(x, y)"
      ],
      "metadata": {
        "id": "lwtS679HyHI5",
        "colab": {
          "base_uri": "https://localhost:8080/"
        },
        "outputId": "bb914555-ca94-47d8-f993-642cf7faf731"
      },
      "execution_count": null,
      "outputs": [
        {
          "output_type": "stream",
          "name": "stdout",
          "text": [
            "red apple\n",
            "red banana\n",
            "red cherry\n",
            "big apple\n",
            "big banana\n",
            "big cherry\n",
            "tasty apple\n",
            "tasty banana\n",
            "tasty cherry\n"
          ]
        }
      ]
    },
    {
      "cell_type": "markdown",
      "source": [
        "----------------------------------------------------**C4**-----------------------------------------------------------"
      ],
      "metadata": {
        "id": "5aG6-Sh4UYK8"
      }
    },
    {
      "cell_type": "markdown",
      "source": [
        "**Python Functions**\n",
        "\n",
        "A function is a block of code which only runs when it is called."
      ],
      "metadata": {
        "id": "eLFZ0auEzQwI"
      }
    },
    {
      "cell_type": "code",
      "source": [
        "def greet(wish):\n",
        "  print(\"good  \"+ wish)\n",
        "\n",
        "greet(\"morning\")\n",
        "greet(\"afternoon\")\n",
        "greet(\"evening\")\n",
        "greet(\"night\")"
      ],
      "metadata": {
        "colab": {
          "base_uri": "https://localhost:8080/"
        },
        "id": "OYa79wFNTfNB",
        "outputId": "00874478-60c1-4b6c-c41c-bad49115a029"
      },
      "execution_count": null,
      "outputs": [
        {
          "output_type": "stream",
          "name": "stdout",
          "text": [
            "good  morning\n",
            "good  afternoon\n",
            "good  evening\n",
            "good  night\n"
          ]
        }
      ]
    },
    {
      "cell_type": "code",
      "source": [
        "def my_function():\n",
        "  print(\"Hello this is  a function\")"
      ],
      "metadata": {
        "id": "Om1_RLYH0qNd"
      },
      "execution_count": null,
      "outputs": []
    },
    {
      "cell_type": "markdown",
      "source": [
        "**Creating a Function**\n",
        "\n",
        "In Python a function is defined using the def keyword:"
      ],
      "metadata": {
        "id": "akGnx5SW1F7t"
      }
    },
    {
      "cell_type": "code",
      "source": [
        "def my_function():\n",
        "  print(\"Hello from a function\")"
      ],
      "metadata": {
        "id": "W8q1UxPD1Ig7"
      },
      "execution_count": null,
      "outputs": []
    },
    {
      "cell_type": "markdown",
      "source": [
        "**Calling a Function**\n",
        "\n",
        "To call a function, use the function name followed by parenthesis:"
      ],
      "metadata": {
        "id": "qZh0PnI41MaL"
      }
    },
    {
      "cell_type": "code",
      "source": [
        "def my_function():\n",
        "  print(\"Hello from a function\")\n",
        "\n",
        "my_function()"
      ],
      "metadata": {
        "id": "TqveKzMK1q9G"
      },
      "execution_count": null,
      "outputs": []
    },
    {
      "cell_type": "markdown",
      "source": [
        "**Arguments**\n",
        "\n",
        "Information can be passed into functions as arguments.\n",
        "\n",
        "Arguments are specified after the function name, inside the parentheses. You can add as many arguments as you want, just separate them with a comma.\n",
        "\n",
        "The following example has a function with one **argument (fname)**. When the function is called, we pass along a first name, which is used inside the function to print the full name:"
      ],
      "metadata": {
        "id": "4N2bNPFz16F6"
      }
    },
    {
      "cell_type": "code",
      "source": [
        "def my_function(fname):\n",
        "  print(fname + \" Refsnes\")\n",
        "\n",
        "my_function(\"Emil\")\n",
        "my_function(\"Tobias\")\n",
        "my_function(\"Linus\")"
      ],
      "metadata": {
        "id": "9VQ2GMdx1_tE",
        "colab": {
          "base_uri": "https://localhost:8080/"
        },
        "outputId": "7ca87a61-7d1e-4b2d-ba63-af522b079a69"
      },
      "execution_count": null,
      "outputs": [
        {
          "output_type": "stream",
          "name": "stdout",
          "text": [
            "Emil Refsnes\n",
            "Tobias Refsnes\n",
            "Linus Refsnes\n"
          ]
        }
      ]
    },
    {
      "cell_type": "markdown",
      "source": [
        "**Parameters or Arguments?**\n",
        "\n",
        "The terms parameter and argument can be used for the same thing: information that are passed into a function."
      ],
      "metadata": {
        "id": "KHushHKv4xpI"
      }
    },
    {
      "cell_type": "markdown",
      "source": [
        "**From a function's perspective:**\n",
        "\n",
        "A parameter is the variable listed inside the parentheses in the function definition.\n",
        "\n",
        "An argument is the value that is sent to the function when it is called."
      ],
      "metadata": {
        "id": "CAI6ugcU42jo"
      }
    },
    {
      "cell_type": "markdown",
      "source": [
        "**Number of Arguments**\n",
        "By default, a function must be called with the correct number of arguments. Meaning that if your function expects 2 arguments, you have to call the function with 2 arguments, not more, and not less.\n",
        "\n"
      ],
      "metadata": {
        "id": "GiNjAQ5E5CSs"
      }
    },
    {
      "cell_type": "code",
      "source": [
        "def my_function(fname, lname):\n",
        "  print(fname + \" \" + lname)\n",
        "\n",
        "my_function(\"lana\", \"Refsnes\")"
      ],
      "metadata": {
        "id": "dqpuO7jz5EVU",
        "colab": {
          "base_uri": "https://localhost:8080/"
        },
        "outputId": "e550da3e-8695-4635-f10f-0cdae671f25a"
      },
      "execution_count": null,
      "outputs": [
        {
          "output_type": "stream",
          "name": "stdout",
          "text": [
            "lana Refsnes\n"
          ]
        }
      ]
    },
    {
      "cell_type": "markdown",
      "source": [
        "If you try to call the function with 1 or 3 arguments, you will get an error:\n",
        "\n"
      ],
      "metadata": {
        "id": "Ct_k44qk5co7"
      }
    },
    {
      "cell_type": "code",
      "source": [
        "#This function expects 2 arguments, but gets only 1:\n",
        "\n",
        "def my_function(fname, lname):\n",
        "  print(fname + \" \" + lname)\n",
        "\n",
        "my_function(\"Emil\")"
      ],
      "metadata": {
        "id": "IU1OyVye5a3X"
      },
      "execution_count": null,
      "outputs": []
    },
    {
      "cell_type": "code",
      "source": [
        "def my_function(child3, child2, child1):\n",
        "  print(\"The youngest child is \" + child3)\n",
        "\n",
        "my_function(child1 = \"Emil\", child2 = \"Tobias\", child3 = \"Linus\")"
      ],
      "metadata": {
        "id": "lsk27Hj745Mh",
        "colab": {
          "base_uri": "https://localhost:8080/"
        },
        "outputId": "c2767dcf-63e9-48f2-ecaf-b3a237775d71"
      },
      "execution_count": null,
      "outputs": [
        {
          "output_type": "stream",
          "name": "stdout",
          "text": [
            "The youngest child is Linus\n"
          ]
        }
      ]
    },
    {
      "cell_type": "markdown",
      "source": [
        "**Default Parameter Value**"
      ],
      "metadata": {
        "id": "Nuo2Dfef844I"
      }
    },
    {
      "cell_type": "code",
      "source": [
        "def my_function(country = \"India\"):\n",
        "  print(\"I am from \" + country)\n",
        "\n",
        "my_function(\"Sweden\")\n",
        "\n",
        "my_function()\n",
        "my_function(\"Brazil\")\n"
      ],
      "metadata": {
        "id": "Wb1fYSFl8xgY",
        "colab": {
          "base_uri": "https://localhost:8080/"
        },
        "outputId": "c624b705-5999-4993-8e42-f9efbefeb981"
      },
      "execution_count": null,
      "outputs": [
        {
          "output_type": "stream",
          "name": "stdout",
          "text": [
            "I am from Sweden\n",
            "I am from India\n",
            "I am from Brazil\n"
          ]
        }
      ]
    },
    {
      "cell_type": "code",
      "source": [
        "for x in range(10):\n",
        "  if x % 2 ==0:\n",
        "    print(\"even numbers:\" ,x)"
      ],
      "metadata": {
        "colab": {
          "base_uri": "https://localhost:8080/"
        },
        "id": "CWIsYCL4NK0V",
        "outputId": "20cc07ce-21ce-4b7c-a385-9f03ee7a7d2a"
      },
      "execution_count": 1,
      "outputs": [
        {
          "output_type": "stream",
          "name": "stdout",
          "text": [
            "even numbers: 0\n",
            "even numbers: 2\n",
            "even numbers: 4\n",
            "even numbers: 6\n",
            "even numbers: 8\n"
          ]
        }
      ]
    },
    {
      "cell_type": "markdown",
      "source": [
        "------------------------------------------------------**C5**---------------------------------------"
      ],
      "metadata": {
        "id": "r2wn5sdAd7tt"
      }
    },
    {
      "cell_type": "code",
      "source": [
        "i=1\n",
        "while i<6:\n",
        "  print(i)\n",
        "  if i == 3:\n",
        "    break\n",
        "  i += 1\n"
      ],
      "metadata": {
        "colab": {
          "base_uri": "https://localhost:8080/"
        },
        "id": "UwlDqjuCRenh",
        "outputId": "4f8b7134-714c-47e7-9f39-0fef72894c8a"
      },
      "execution_count": null,
      "outputs": [
        {
          "output_type": "stream",
          "name": "stdout",
          "text": [
            "1\n",
            "2\n",
            "3\n"
          ]
        }
      ]
    },
    {
      "cell_type": "code",
      "source": [
        "i=0\n",
        "while i<6:\n",
        "  i += 1\n",
        "\n",
        "  if i == 3:\n",
        "    continue\n",
        "  print(i)\n"
      ],
      "metadata": {
        "colab": {
          "base_uri": "https://localhost:8080/"
        },
        "id": "pr3AEXlCSHtF",
        "outputId": "26fec867-29fb-46f7-ebcb-b6b657eed4a0"
      },
      "execution_count": null,
      "outputs": [
        {
          "output_type": "stream",
          "name": "stdout",
          "text": [
            "1\n",
            "2\n",
            "4\n",
            "5\n",
            "6\n"
          ]
        }
      ]
    },
    {
      "cell_type": "code",
      "source": [],
      "metadata": {
        "id": "Kdi0Bp1XTQLr"
      },
      "execution_count": null,
      "outputs": []
    },
    {
      "cell_type": "code",
      "source": [
        "i=1\n",
        "while i<6:\n",
        "  print(i)\n",
        "  i += 1\n",
        "else:\n",
        "  print(\"i is no longer less then 6\")\n",
        "\n"
      ],
      "metadata": {
        "colab": {
          "base_uri": "https://localhost:8080/"
        },
        "outputId": "cdeaa7c3-d593-4887-ff76-13822ee35371",
        "id": "LMb_y8JlTa3n"
      },
      "execution_count": null,
      "outputs": [
        {
          "output_type": "stream",
          "name": "stdout",
          "text": [
            "1\n",
            "2\n",
            "3\n",
            "4\n",
            "5\n",
            "i is no longer less then 6\n"
          ]
        }
      ]
    },
    {
      "cell_type": "markdown",
      "source": [
        "List()"
      ],
      "metadata": {
        "id": "sdGs2VInWVvC"
      }
    },
    {
      "cell_type": "code",
      "source": [
        "num =1,2,3,4\n",
        "\n",
        "\n",
        "print(num[1])\n",
        "\n",
        "print(list(num))\n",
        "num.append(5)\n",
        "print(num)"
      ],
      "metadata": {
        "colab": {
          "base_uri": "https://localhost:8080/",
          "height": 262
        },
        "id": "8sSBT7qnSD_2",
        "outputId": "24558263-230d-41a6-ee31-12797fa596cf"
      },
      "execution_count": null,
      "outputs": [
        {
          "output_type": "stream",
          "name": "stdout",
          "text": [
            "2\n",
            "[1, 2, 3, 4]\n"
          ]
        },
        {
          "output_type": "error",
          "ename": "AttributeError",
          "evalue": "ignored",
          "traceback": [
            "\u001b[0;31m---------------------------------------------------------------------------\u001b[0m",
            "\u001b[0;31mAttributeError\u001b[0m                            Traceback (most recent call last)",
            "\u001b[0;32m<ipython-input-12-8eae91f63053>\u001b[0m in \u001b[0;36m<cell line: 7>\u001b[0;34m()\u001b[0m\n\u001b[1;32m      5\u001b[0m \u001b[0;34m\u001b[0m\u001b[0m\n\u001b[1;32m      6\u001b[0m \u001b[0mprint\u001b[0m\u001b[0;34m(\u001b[0m\u001b[0mlist\u001b[0m\u001b[0;34m(\u001b[0m\u001b[0mnum\u001b[0m\u001b[0;34m)\u001b[0m\u001b[0;34m)\u001b[0m\u001b[0;34m\u001b[0m\u001b[0;34m\u001b[0m\u001b[0m\n\u001b[0;32m----> 7\u001b[0;31m \u001b[0mnum\u001b[0m\u001b[0;34m.\u001b[0m\u001b[0mappend\u001b[0m\u001b[0;34m(\u001b[0m\u001b[0;36m5\u001b[0m\u001b[0;34m)\u001b[0m\u001b[0;34m\u001b[0m\u001b[0;34m\u001b[0m\u001b[0m\n\u001b[0m\u001b[1;32m      8\u001b[0m \u001b[0mprint\u001b[0m\u001b[0;34m(\u001b[0m\u001b[0mnum\u001b[0m\u001b[0;34m)\u001b[0m\u001b[0;34m\u001b[0m\u001b[0;34m\u001b[0m\u001b[0m\n",
            "\u001b[0;31mAttributeError\u001b[0m: 'tuple' object has no attribute 'append'"
          ]
        }
      ]
    },
    {
      "cell_type": "code",
      "source": [
        "fruits=[\"aaple\",\"cherry\",\"banana\"]\n",
        "fruits.append(\"mango\")\n",
        "print(fruits)"
      ],
      "metadata": {
        "colab": {
          "base_uri": "https://localhost:8080/"
        },
        "id": "JSLQUxDoX7SO",
        "outputId": "d391f7e6-5631-4c54-b9c3-7ab743780993"
      },
      "execution_count": null,
      "outputs": [
        {
          "output_type": "stream",
          "name": "stdout",
          "text": [
            "['aaple', 'cherry', 'banana', 'mango']\n"
          ]
        }
      ]
    },
    {
      "cell_type": "markdown",
      "source": [
        "**Task**"
      ],
      "metadata": {
        "id": "8K5mJ9VXeIBp"
      }
    },
    {
      "cell_type": "code",
      "source": [
        "# program to calculate the sum of numbers\n",
        "# until the user enters zero\n",
        "\n",
        "total = 0\n",
        "\n",
        "number = int(input('Enter a number: '))\n",
        "\n",
        "# add numbers until number is zero\n",
        "while number != 0:\n",
        "    total += number    # total = total + number\n",
        "\n",
        "    # take integer input again\n",
        "    number = int(input('Enter a number: '))\n",
        "\n",
        "\n",
        "print('total =', total)"
      ],
      "metadata": {
        "colab": {
          "base_uri": "https://localhost:8080/"
        },
        "id": "kldJ9EZnd1PF",
        "outputId": "5585cc33-b991-436e-f70a-20cad8660bc7"
      },
      "execution_count": null,
      "outputs": [
        {
          "output_type": "stream",
          "name": "stdout",
          "text": [
            "Enter a number: 3\n",
            "Enter a number: 2\n",
            "Enter a number: 4\n",
            "Enter a number: 0\n",
            "total = 9\n"
          ]
        }
      ]
    },
    {
      "cell_type": "code",
      "source": [
        "a=2\n",
        "b=input(\"enter your name\")\n",
        "while a==2:\n",
        "  a += 1\n",
        "  print(\"hi how r u?\",format(b))\n",
        "\n",
        "  break"
      ],
      "metadata": {
        "id": "0rTURDjDhMfQ",
        "colab": {
          "base_uri": "https://localhost:8080/"
        },
        "outputId": "489c98c9-5ca5-488d-d49b-2851a8455db7"
      },
      "execution_count": null,
      "outputs": [
        {
          "output_type": "stream",
          "name": "stdout",
          "text": [
            "enter your namev\n",
            "hi how r u? v\n"
          ]
        }
      ]
    },
    {
      "cell_type": "code",
      "source": [
        "# Multiplication table for the number 5 using a for loop\n",
        "number = 5\n",
        "#f is format\n",
        "print(f\"Multiplication Table for {number}:\")\n",
        "for i in range(1, 11):\n",
        "    result = number * i\n",
        "    print(f\"{number} x {i} = {result}\")"
      ],
      "metadata": {
        "colab": {
          "base_uri": "https://localhost:8080/"
        },
        "id": "f-P5NfYHktv-",
        "outputId": "2aaaae18-b13d-40dd-b9d5-cd1a1a34de2a"
      },
      "execution_count": null,
      "outputs": [
        {
          "output_type": "stream",
          "name": "stdout",
          "text": [
            "Multiplication Table for 5:\n",
            "5 x 1 = 5\n",
            "5 x 2 = 10\n",
            "5 x 3 = 15\n",
            "5 x 4 = 20\n",
            "5 x 5 = 25\n",
            "5 x 6 = 30\n",
            "5 x 7 = 35\n",
            "5 x 8 = 40\n",
            "5 x 9 = 45\n",
            "5 x 10 = 50\n"
          ]
        }
      ]
    },
    {
      "cell_type": "code",
      "source": [
        "def greet_user(time):\n",
        "    \"\"\"Greet the user based on the time of the day.\"\"\"\n",
        "    if 5 <= time < 12:\n",
        "        return \"Good morning!\"\n",
        "    elif 12 <= time < 17:\n",
        "        return \"Good afternoon!\"\n",
        "    elif 17 <= time < 20:\n",
        "        return \"Good evening!\"\n",
        "    else:\n",
        "        return \"Good night!\"\n",
        "\n",
        "# Get input from the user for the current time (24-hour format)\n",
        "user_time = int(input(\"Enter the current time (24-hour format): \"))\n",
        "\n",
        "# Call the function and print the greeting\n",
        "greeting = greet_user(user_time)\n",
        "print(greeting)\n"
      ],
      "metadata": {
        "id": "RqXxb89rlhYw",
        "outputId": "985f3a95-9b26-4cc8-f7f5-9f08a7b63228",
        "colab": {
          "base_uri": "https://localhost:8080/"
        }
      },
      "execution_count": null,
      "outputs": [
        {
          "output_type": "stream",
          "name": "stdout",
          "text": [
            "Enter the current time (24-hour format): 2\n",
            "Good night!\n"
          ]
        }
      ]
    },
    {
      "cell_type": "markdown",
      "source": [
        "------------------------------------------------------------------------------------C6---------------------------------------------------------------------\n"
      ],
      "metadata": {
        "id": "BAGJzWATO8dc"
      }
    },
    {
      "cell_type": "markdown",
      "source": [
        "**What is a Module?**\n",
        "\n",
        "Consider a module to be the same as a code library.\n",
        "\n",
        "A file containing a set of functions you want to include in your application."
      ],
      "metadata": {
        "id": "7xvkFrRSQJE2"
      }
    },
    {
      "cell_type": "code",
      "source": [
        "https://bootstrap.pypa.io/get-pip.py"
      ],
      "metadata": {
        "id": "h_jrgoPzYN5G"
      },
      "execution_count": null,
      "outputs": []
    },
    {
      "cell_type": "code",
      "source": [
        "import platform\n",
        "\n",
        "x = platform.system()\n",
        "print(x)"
      ],
      "metadata": {
        "id": "8yUovKxTYyEA",
        "colab": {
          "base_uri": "https://localhost:8080/"
        },
        "outputId": "e483735c-0042-4477-ea1b-9688ca94f637"
      },
      "execution_count": 2,
      "outputs": [
        {
          "output_type": "stream",
          "name": "stdout",
          "text": [
            "Linux\n"
          ]
        }
      ]
    },
    {
      "cell_type": "code",
      "source": [
        "import platform\n",
        "\n",
        "x = dir(platform)\n",
        "print(x)\n"
      ],
      "metadata": {
        "colab": {
          "base_uri": "https://localhost:8080/"
        },
        "id": "m2OsEVhCbyVd",
        "outputId": "a93752f1-4791-4c09-845b-686ca8bbd3d1"
      },
      "execution_count": 3,
      "outputs": [
        {
          "output_type": "stream",
          "name": "stdout",
          "text": [
            "['_Processor', '_WIN32_CLIENT_RELEASES', '_WIN32_SERVER_RELEASES', '__builtins__', '__cached__', '__copyright__', '__doc__', '__file__', '__loader__', '__name__', '__package__', '__spec__', '__version__', '_comparable_version', '_component_re', '_default_architecture', '_follow_symlinks', '_get_machine_win32', '_ironpython26_sys_version_parser', '_ironpython_sys_version_parser', '_java_getprop', '_libc_search', '_mac_ver_xml', '_node', '_norm_version', '_os_release_cache', '_os_release_candidates', '_os_release_line', '_os_release_unescape', '_parse_os_release', '_platform', '_platform_cache', '_pypy_sys_version_parser', '_sys_version', '_sys_version_cache', '_sys_version_parser', '_syscmd_file', '_syscmd_ver', '_uname_cache', '_unknown_as_blank', '_ver_output', '_ver_stages', 'architecture', 'collections', 'freedesktop_os_release', 'functools', 'itertools', 'java_ver', 'libc_ver', 'mac_ver', 'machine', 'node', 'os', 'platform', 'processor', 'python_branch', 'python_build', 'python_compiler', 'python_implementation', 'python_revision', 'python_version', 'python_version_tuple', 're', 'release', 'subprocess', 'sys', 'system', 'system_alias', 'uname', 'uname_result', 'version', 'win32_edition', 'win32_is_iot', 'win32_ver']\n"
          ]
        }
      ]
    },
    {
      "cell_type": "markdown",
      "source": [
        "**Python Datetime**\n",
        "\n",
        "The ***strftime()*** Method\n",
        "\n",
        "The datetime object has a method for formatting date objects into readable strings.\n",
        "\n",
        "The method is called strftime(), and takes one parameter, format, to specify the format of the returned string:"
      ],
      "metadata": {
        "id": "RuRi9nzVdA_z"
      }
    },
    {
      "cell_type": "code",
      "source": [
        "import datetime\n",
        "x = datetime.datetime.now()\n",
        "print(x)\n"
      ],
      "metadata": {
        "colab": {
          "base_uri": "https://localhost:8080/"
        },
        "id": "PN_HeIBXTZoy",
        "outputId": "bf077946-e43e-43b0-f2b5-fad913a58778"
      },
      "execution_count": 2,
      "outputs": [
        {
          "output_type": "stream",
          "name": "stdout",
          "text": [
            "2023-12-10 01:19:34.293965\n"
          ]
        }
      ]
    },
    {
      "cell_type": "code",
      "source": [
        "import datetime\n",
        "\n",
        "x = datetime.datetime.now()\n",
        "\n",
        "print(x.year)\n",
        "print(x.strftime(\"%x\"))"
      ],
      "metadata": {
        "colab": {
          "base_uri": "https://localhost:8080/"
        },
        "id": "fAjXDVt2c-_L",
        "outputId": "e6b255b4-d331-4d73-e750-eaeac1f79353"
      },
      "execution_count": 6,
      "outputs": [
        {
          "output_type": "stream",
          "name": "stdout",
          "text": [
            "2023\n",
            "12/10/23\n"
          ]
        }
      ]
    },
    {
      "cell_type": "markdown",
      "source": [
        "**Built-in Math Functions**"
      ],
      "metadata": {
        "id": "6bpkG-KkfBOP"
      }
    },
    {
      "cell_type": "code",
      "source": [
        "x = min(5, 10, 25)\n",
        "y = max(5, 10, 25)\n",
        "\n",
        "print(x)\n",
        "print(y)"
      ],
      "metadata": {
        "colab": {
          "base_uri": "https://localhost:8080/"
        },
        "id": "GXmMvKB6fJr8",
        "outputId": "5b6ec38b-9699-46f3-9fc3-8bab8665ca5a"
      },
      "execution_count": 7,
      "outputs": [
        {
          "output_type": "stream",
          "name": "stdout",
          "text": [
            "5\n",
            "25\n"
          ]
        }
      ]
    },
    {
      "cell_type": "markdown",
      "source": [
        "The pow(x, y) function returns the value of x to the power of y (xy)."
      ],
      "metadata": {
        "id": "wrrmjio0fR6P"
      }
    },
    {
      "cell_type": "code",
      "source": [
        "x = pow(4, 3)\n",
        "\n",
        "print(x)"
      ],
      "metadata": {
        "colab": {
          "base_uri": "https://localhost:8080/"
        },
        "id": "OXBMVmM5fM4U",
        "outputId": "c3c6ab62-766d-4480-a9e3-a2e963d5c282"
      },
      "execution_count": 8,
      "outputs": [
        {
          "output_type": "stream",
          "name": "stdout",
          "text": [
            "64\n"
          ]
        }
      ]
    },
    {
      "cell_type": "markdown",
      "source": [
        "The math.sqrt() method (function), returns the square root of a number:"
      ],
      "metadata": {
        "id": "EeBIRGttfjdA"
      }
    },
    {
      "cell_type": "code",
      "source": [
        "import math\n",
        "\n",
        "x = math.sqrt(64)\n",
        "\n",
        "print(x)"
      ],
      "metadata": {
        "colab": {
          "base_uri": "https://localhost:8080/"
        },
        "id": "zXnVzPGzfWVP",
        "outputId": "9ea20b83-8b5b-4a4e-823b-2bb95e0ce07c"
      },
      "execution_count": 9,
      "outputs": [
        {
          "output_type": "stream",
          "name": "stdout",
          "text": [
            "8.0\n"
          ]
        }
      ]
    },
    {
      "cell_type": "code",
      "source": [
        "#Import math library\n",
        "import math\n",
        "\n",
        "#Round a number upward to its nearest integer\n",
        "x = math.ceil(1.4)\n",
        "\n",
        "#Round a number downward to its nearest integer\n",
        "y = math.floor(1.4)\n",
        "\n",
        "print(x)\n",
        "print(y)\n"
      ],
      "metadata": {
        "colab": {
          "base_uri": "https://localhost:8080/"
        },
        "id": "eGE-iGudf0E-",
        "outputId": "0d626ff3-470a-4c37-bbea-7672c10eb33c"
      },
      "execution_count": 10,
      "outputs": [
        {
          "output_type": "stream",
          "name": "stdout",
          "text": [
            "2\n",
            "1\n"
          ]
        }
      ]
    },
    {
      "cell_type": "markdown",
      "source": [
        "The math.pi constant, returns the value of PI (3.14...):"
      ],
      "metadata": {
        "id": "I-hDcB5Cf5CW"
      }
    },
    {
      "cell_type": "code",
      "source": [
        "import math\n",
        "\n",
        "x = math.pi\n",
        "\n",
        "print(x)"
      ],
      "metadata": {
        "colab": {
          "base_uri": "https://localhost:8080/"
        },
        "id": "KrlrWrE3f7Ln",
        "outputId": "f67c4109-fd75-4a3d-aa18-756621a78afc"
      },
      "execution_count": 11,
      "outputs": [
        {
          "output_type": "stream",
          "name": "stdout",
          "text": [
            "3.141592653589793\n"
          ]
        }
      ]
    },
    {
      "cell_type": "markdown",
      "source": [
        "**Python Dictionaries**\n",
        "\n",
        "Dictionaries are used to store data values in ***key:value pairs***.\n",
        "\n",
        "**Syntax**\n",
        "\n",
        "Variable_name ={\n",
        "  key1:values1,\n",
        "  key2:values2\n",
        "}"
      ],
      "metadata": {
        "id": "9PahQdqrgDgV"
      }
    },
    {
      "cell_type": "code",
      "source": [
        "thisdict = {\n",
        "  \"brand\": \"Ford\",\n",
        "  \"model\": \"Mustang\",\n",
        "  \"year\": 1964\n",
        "}\n",
        "#x = thisdict[\"model\"]\n",
        "x = thisdict.get(\"model\")\n",
        "y= thisdict.keys()\n",
        "\n",
        "z=thisdict[\"color\"]=\"red\"\n",
        "print(x)\n",
        "print(z)\n",
        "#print(y)"
      ],
      "metadata": {
        "colab": {
          "base_uri": "https://localhost:8080/"
        },
        "id": "NuHH3zT-hRFX",
        "outputId": "7e03cdba-2acb-4134-eb1f-ba4d8e51b0d7"
      },
      "execution_count": 25,
      "outputs": [
        {
          "output_type": "stream",
          "name": "stdout",
          "text": [
            "Mustang\n",
            "red\n"
          ]
        }
      ]
    },
    {
      "cell_type": "code",
      "source": [
        "car = {\n",
        "\"brand\": \"Ford\",\n",
        "\"model\": \"Mustang\",\n",
        "\"year\": 1964\n",
        "}\n",
        "\n",
        "x = car.keys()\n",
        "\n",
        "#print(x) #before the change\n",
        "\n",
        "car[\"color\"] = \"white\"\n",
        "car.update({\"color\": \"red\"})\n",
        "\n",
        "print(car) #after the change"
      ],
      "metadata": {
        "colab": {
          "base_uri": "https://localhost:8080/"
        },
        "id": "NhCFtp-DiVvY",
        "outputId": "f29508ba-8a50-4cc2-c353-f4421676f1b4"
      },
      "execution_count": 29,
      "outputs": [
        {
          "output_type": "stream",
          "name": "stdout",
          "text": [
            "{'brand': 'Ford', 'model': 'Mustang', 'year': 1964, 'color': 'red'}\n"
          ]
        }
      ]
    },
    {
      "cell_type": "markdown",
      "source": [
        "**Python File Open**\n",
        "\n",
        "**File handling** is an important part of any web application.\n",
        "\n",
        "Python has several functions for creating, reading, updating, and deleting files.\n",
        "\n",
        "**File Handling**\n",
        "\n",
        "The key function for working with files in Python is the open() function.\n",
        "\n",
        "The** open()** function takes two parameters; filename, and mode.\n",
        "\n",
        "There are four different methods (modes) for opening a file:\n",
        "\n",
        "\"**r**\" - Read - Default value. Opens a file for reading, error if the file does not exist\n",
        "\n",
        "\"**a**\" - Append - Opens a file for appending, creates the file if it does not exist\n",
        "\n",
        "\"**w**\" - Write - Opens a file for writing, creates the file if it does not exist\n",
        "\n",
        "\"**x**\" - Create - Creates the specified file, returns an error if the file exists\n",
        "\n",
        "In addition you can specify if the file should be handled as binary or text mode\n",
        "\n",
        "\"**t**\" - Text - Default value. Text mode\n",
        "\n",
        "\"**b**\" - Binary - Binary mode (e.g. images)\n",
        "\n",
        "**Syntax**\n",
        "\n",
        "To open a file for reading it is enough to specify the name of the file:\n",
        "\n",
        "f = **open**(\"demofile.txt\")"
      ],
      "metadata": {
        "id": "GUTxgWm-lDvw"
      }
    }
  ]
}